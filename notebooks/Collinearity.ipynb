{
 "cells": [
  {
   "cell_type": "markdown",
   "metadata": {},
   "source": [
    "## Collinearity Check\n",
    "Collinearity for any three points can be determined easily by taking the determinant of a matrix containing the points."
   ]
  },
  {
   "cell_type": "code",
   "execution_count": 5,
   "metadata": {},
   "outputs": [],
   "source": [
    "# Define Points (feel free to change these)\n",
    "# By default these will be cast as int64 arrays\n",
    "import numpy as np\n",
    "p1 = np.array([1, 2])\n",
    "p2 = np.array([2, 3])\n",
    "p3 = np.array([3, 4])"
   ]
  },
  {
   "cell_type": "markdown",
   "metadata": {},
   "source": [
    "### General Case\n",
    "\n",
    "Define a function to determine collinearity using the `np.linalg.det()` function. Introduce the `epsilon` threshold to allow a tolerance for collinearity. If the determinant is less than `epsilon` then the points are collinear. \n"
   ]
  },
  {
   "cell_type": "code",
   "execution_count": 28,
   "metadata": {},
   "outputs": [],
   "source": [
    "def collinearity_float(p1, p2, p3, epsilon=1e-2): \n",
    "    collinear = False\n",
    "    # TODO: Add a third dimension of z=1 to each point\n",
    "    # TODO: Create the matrix out of three points\n",
    "    # TODO: Calculate the determinant of the matrix. \n",
    "    # TODO: Set collinear to True if the determinant is less than epsilon\n",
    "    # Define a simple function to add a z coordinate of 1\n",
    "    def point(p):\n",
    "        return np.array([p[0], p[1], 1.])\n",
    "\n",
    "    # Add points as rows in a matrix\n",
    "    mat = np.vstack((point(p1), point(p2), point(p3)))\n",
    "    det = np.linalg.det(mat)\n",
    "#     print(det)\n",
    "    \n",
    "    if np.abs(det) < epsilon:\n",
    "        collinear = True\n",
    "\n",
    "    return collinear"
   ]
  },
  {
   "cell_type": "code",
   "execution_count": 29,
   "metadata": {},
   "outputs": [
    {
     "data": {
      "text/plain": [
       "True"
      ]
     },
     "execution_count": 29,
     "metadata": {},
     "output_type": "execute_result"
    }
   ],
   "source": [
    "collinearity_float(p1,p2,p3)"
   ]
  },
  {
   "cell_type": "markdown",
   "metadata": {},
   "source": [
    "### Integer Case\n",
    "Define a function to take three points and test for collinearity by evaluating the determinant using the simplified version for the 2D case:\n",
    "\n",
    "$ det = x_1(y_2-y_3) + x_2(y_3-y_1) + x_3(y_1-y_2)$"
   ]
  },
  {
   "cell_type": "code",
   "execution_count": 30,
   "metadata": {},
   "outputs": [],
   "source": [
    "def collinearity_int(p1, p2, p3): \n",
    "    collinear = False\n",
    "    # TODO: Calculate the determinant of the matrix using integer arithmetic \n",
    "    # TODO: Set collinear to True if the determinant is equal to zero\n",
    "    x_1, x_2, x_3 = p1[0], p2[0], p3[0]\n",
    "    y_1, y_2, y_3 = p1[1], p2[1], p3[1]\n",
    "    \n",
    "    det = x_1 * (y_2-y_3) + x_2 * (y_3-y_1) + x_3 * (y_1 - y_2)\n",
    "    if det == 0:\n",
    "        collinear = True\n",
    "    return collinear"
   ]
  },
  {
   "cell_type": "code",
   "execution_count": 31,
   "metadata": {},
   "outputs": [
    {
     "data": {
      "text/plain": [
       "True"
      ]
     },
     "execution_count": 31,
     "metadata": {},
     "output_type": "execute_result"
    }
   ],
   "source": [
    "collinearity_int(p1, p2, p3)"
   ]
  },
  {
   "cell_type": "markdown",
   "metadata": {},
   "source": [
    "### Test it and time it"
   ]
  },
  {
   "cell_type": "code",
   "execution_count": 33,
   "metadata": {},
   "outputs": [
    {
     "name": "stdout",
     "output_type": "stream",
     "text": [
      "0.00028252601623535156 9.202957153320312e-05\n",
      "3.069948186528497\n"
     ]
    }
   ],
   "source": [
    "import time\n",
    "t1 = time.time()\n",
    "collinear = collinearity_float(p1, p2, p3)\n",
    "t_3D = time.time() - t1\n",
    "\n",
    "t1 = time.time()\n",
    "collinear = collinearity_int(p1, p2, p3)\n",
    "t_2D = time.time() - t1\n",
    "print(t_3D, t_2D)\n",
    "print(t_3D/t_2D)"
   ]
  },
  {
   "cell_type": "markdown",
   "metadata": {},
   "source": [
    "### Which one is faster ???"
   ]
  },
  {
   "cell_type": "markdown",
   "metadata": {
    "collapsed": true
   },
   "source": [
    "Check the solution [here](/notebooks/Collinearity-Solution.ipynb)."
   ]
  },
  {
   "cell_type": "code",
   "execution_count": null,
   "metadata": {},
   "outputs": [],
   "source": [
    "# integer calculation is much faster"
   ]
  }
 ],
 "metadata": {
  "kernelspec": {
   "display_name": "Python 3",
   "language": "python",
   "name": "python3"
  },
  "language_info": {
   "codemirror_mode": {
    "name": "ipython",
    "version": 3
   },
   "file_extension": ".py",
   "mimetype": "text/x-python",
   "name": "python",
   "nbconvert_exporter": "python",
   "pygments_lexer": "ipython3",
   "version": "3.6.3"
  }
 },
 "nbformat": 4,
 "nbformat_minor": 2
}
