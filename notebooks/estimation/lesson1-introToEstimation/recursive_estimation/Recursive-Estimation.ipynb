{
 "cells": [
  {
   "cell_type": "markdown",
   "metadata": {},
   "source": [
    "# Recursive Estimation\n",
    "\n",
    "In the previous notebook you were presented with all the noisy measurements prior to estimating $\\hat{x}$. In this notebook, measurements will be received one at a time. You'll update $\\hat{x}$ on each measurement.\n",
    "\n",
    "Once again, the vehicle is not moving - the state, $x$, is constant."
   ]
  },
  {
   "cell_type": "code",
   "execution_count": 1,
   "metadata": {},
   "outputs": [],
   "source": [
    "import numpy as np\n",
    "import matplotlib.pyplot as plt\n",
    "import numpy.linalg as LA\n",
    "from matplotlib.patches import Ellipse\n",
    "from matplotlib.patches import Arrow\n",
    "\n",
    "%matplotlib inline"
   ]
  },
  {
   "cell_type": "code",
   "execution_count": 2,
   "metadata": {},
   "outputs": [],
   "source": [
    "plt.rcParams['figure.figsize'] = 12, 12"
   ]
  },
  {
   "cell_type": "markdown",
   "metadata": {},
   "source": [
    "Plotting code."
   ]
  },
  {
   "cell_type": "code",
   "execution_count": 3,
   "metadata": {},
   "outputs": [],
   "source": [
    "def create_ellipse(mu, angle, width, height):\n",
    "    # angle is plotted such that it starts from 180 and goes\n",
    "    # clockwise instead of from 0 degrees and goes counter-clockwise\n",
    "    # so 135 degrees -> 45 degrees\n",
    "    return Ellipse(xy=mu, width=width*2, height=height*2, angle=angle,\n",
    "                      facecolor='none', linestyle='dotted', edgecolor='r')\n",
    "\n",
    "def plot_ellipse(mu, sigma):  \n",
    "    (w, v) = LA.eig(sigma)\n",
    "    angle = np.degrees(np.arctan2(v[1, 0], v[0, 0]))\n",
    "    \n",
    "    ax = plt.gca()\n",
    "    ax.set_xlim(mu[0] + -1.3, mu[0] + 1.3)\n",
    "    ax.set_ylim(mu[1] + -1.3, mu[1] + 1.3)\n",
    "    \n",
    "    ellipse = create_ellipse(mu, angle, w[0], w[1])\n",
    "    ellipse.set_edgecolor('k')\n",
    "    ax.add_patch(ellipse)\n",
    "    plt.plot(mu[0], mu[1], 'ro')"
   ]
  },
  {
   "cell_type": "code",
   "execution_count": 4,
   "metadata": {},
   "outputs": [],
   "source": [
    "# Constants\n",
    "\n",
    "# number of samples\n",
    "n_samples = 1000\n",
    "\n",
    "# ground truth state\n",
    "x = np.array([-0.85, 0.25]).reshape(2, 1)\n",
    "\n",
    "# state -> measurement map\n",
    "H = np.array([1, -1]).reshape(1, 2)\n",
    "\n",
    "# noise\n",
    "R = np.eye(1) * 0.01"
   ]
  },
  {
   "cell_type": "markdown",
   "metadata": {},
   "source": [
    "We haven't sampled a measurement as of yet so at the moment let's assume we have:"
   ]
  },
  {
   "cell_type": "code",
   "execution_count": 5,
   "metadata": {},
   "outputs": [],
   "source": [
    "x_hat0 = np.array([0, 0]).reshape(-1, 1)\n",
    "Q0 = np.eye(len(x_hat0))"
   ]
  },
  {
   "cell_type": "markdown",
   "metadata": {},
   "source": [
    "`plot_ellipse` will plot an ellipse given `mu` and `sigma`. The significance of the plot being anything inside the ellipse is a possible value of $\\hat{x}$. Initially this will look like a circle."
   ]
  },
  {
   "cell_type": "code",
   "execution_count": 6,
   "metadata": {},
   "outputs": [
    {
     "data": {
      "image/png": "[encoded data removed]",
      "text/plain": [
       "<matplotlib.figure.Figure at 0x7f51412ea438>"
      ]
     },
     "metadata": {},
     "output_type": "display_data"
    }
   ],
   "source": [
    "plot_ellipse(x_hat0, Q0)"
   ]
  },
  {
   "cell_type": "markdown",
   "metadata": {},
   "source": [
    "Ideally, by the end of the sampling process the plot should look like a very small ellipse, centered around the ground truth state $x$.\n",
    "\n",
    "Recall the update functions for $Q$ and $\\hat{x}$.\n",
    "\n",
    "$\n",
    "Q_{t+1} = (Q_{t}^{-1} + H^T R^{-1} H)^{-1}\\\\\n",
    "\\hat{x}_{t+1} = \\hat{x_t} + Q_{t+1} H^{T} R^{-1} (\\tilde{y_t} - H \\hat{x_t})\n",
    "$\n",
    "\n",
    "Don't be too concerned if your final $\\hat{x}$ value isn't the same as $x$. We'll go over why this might be in a second.\n",
    "\n",
    "If `H @ x` is ~= `H @ x_hat` your solution is correct."
   ]
  },
  {
   "cell_type": "code",
   "execution_count": 9,
   "metadata": {},
   "outputs": [
    {
     "data": {
      "text/plain": [
       "array([[0]])"
      ]
     },
     "execution_count": 9,
     "metadata": {},
     "output_type": "execute_result"
    }
   ],
   "source": [
    "H@x_hat0"
   ]
  },
  {
   "cell_type": "code",
   "execution_count": 11,
   "metadata": {},
   "outputs": [
    {
     "data": {
      "text/plain": [
       "0.02070126193487564"
      ]
     },
     "execution_count": 11,
     "metadata": {},
     "output_type": "execute_result"
    }
   ],
   "source": [
    "np.random.normal(0, 1)"
   ]
  },
  {
   "cell_type": "code",
   "execution_count": 14,
   "metadata": {},
   "outputs": [],
   "source": [
    "def recursive_estimation(x_hat0, Q0, n_samples):\n",
    "    x_hat = np.copy(x_hat0)\n",
    "    Q = np.copy(Q0)\n",
    "    \n",
    "    for _ in range(n_samples):\n",
    "        # TODO: sample a measurement\n",
    "        y_obs = H @ x_hat + np.random.normal(0, 1)\n",
    "        # TODO: update Q and x_hat\n",
    "        Q = LA.inv(LA.inv(Q) + H.T@LA.inv(R)@H)\n",
    "        x_hat = x_hat + Q@H.T@LA.inv(R)@(y_obs - H@x_hat)\n",
    "        \n",
    "        \n",
    "    return x_hat, Q"
   ]
  },
  {
   "cell_type": "code",
   "execution_count": 15,
   "metadata": {},
   "outputs": [
    {
     "name": "stdout",
     "output_type": "stream",
     "text": [
      "x = [-0.85  0.25]\n",
      "x̂ = [ 0.21505582 -0.21505582]\n",
      "Hx = [-1.1]\n",
      "Hx̂ = [0.43011164]\n"
     ]
    }
   ],
   "source": [
    "x_hat, Q = recursive_estimation(x_hat0, Q0, n_samples)\n",
    "    \n",
    "print(\"x =\", x.squeeze())\n",
    "print(\"x̂ =\", x_hat.squeeze())\n",
    "print(\"Hx =\", H @ x.squeeze())\n",
    "print(\"Hx̂ =\", H @ x_hat.squeeze())"
   ]
  },
  {
   "cell_type": "markdown",
   "metadata": {},
   "source": [
    "Let's plot the ellipse again."
   ]
  },
  {
   "cell_type": "code",
   "execution_count": 9,
   "metadata": {},
   "outputs": [
    {
     "data": {
      "image/png": "[encoded data removed]",
      "text/plain": [
       "<matplotlib.figure.Figure at 0x7fa42542b5f8>"
      ]
     },
     "metadata": {
      "needs_background": "light"
     },
     "output_type": "display_data"
    }
   ],
   "source": [
    "plot_ellipse(x_hat, Q)"
   ]
  },
  {
   "cell_type": "markdown",
   "metadata": {},
   "source": [
    "Hmmm, not quite what we wanted, this is essentially a line. So what does this mean?\n",
    "\n",
    "Any state value, $z$, chosen from the line will produce equivalent measurements to the ground truth state. That is, `H @ z` ~= `H @ x`.\n",
    "\n",
    "If we look at `H` as a function then there are multiple inputs which map to the same output. If we're trying to figure out the input given output values, we won't necessarily come up with the correct input. Additionally, once we \"arrive\" at an input which produces the appropriate outputs then $\\hat{x}$, $\\hat{x}_{t+1} \\approx \\hat{x}_{t}$ since $(\\tilde{y_t} - H \\hat{x_t}) \\approx 0$.\n",
    "\n",
    "Update function for reference:\n",
    "\n",
    "$\n",
    "\\hat{x}_{t+1} = \\hat{x_t} + Q_{t+1} H^{T} R^{-1} (\\tilde{y_t} - H \\hat{x_t})\n",
    "$\n",
    "\n",
    "Let's look at this in more detail empirically. To find other inputs along the line we'll need the angle of the ellipse. We can compute this with the eigenvectors of $Q$."
   ]
  },
  {
   "cell_type": "code",
   "execution_count": 15,
   "metadata": {},
   "outputs": [
    {
     "name": "stdout",
     "output_type": "stream",
     "text": [
      "eigen values [  4.99997500e-06   1.00000000e+00]\n",
      "eigen vectors [[-0.70710678 -0.70710678]\n",
      " [ 0.70710678 -0.70710678]]\n",
      "angle 45.0\n"
     ]
    }
   ],
   "source": [
    "(w, v) = LA.eig(Q)\n",
    "# sync angle with plotted ellipse\n",
    "angle = np.pi - np.arctan2(v[1, 0], v[0, 0])\n",
    "print(\"eigen values\", w)\n",
    "print(\"eigen vectors\", v)\n",
    "print(\"angle\", np.degrees(angle))"
   ]
  },
  {
   "cell_type": "code",
   "execution_count": 16,
   "metadata": {},
   "outputs": [
    {
     "data": {
      "image/png": "[encoded data removed]",
      "text/plain": [
       "<matplotlib.figure.Figure at 0x7fbe18ea7080>"
      ]
     },
     "metadata": {
      "needs_background": "light"
     },
     "output_type": "display_data"
    }
   ],
   "source": [
    "inputs = []\n",
    "outputs = []\n",
    "dt = 0.25\n",
    "\n",
    "for v in np.arange(-1, 1+dt, dt):\n",
    "    s = np.array([x_hat[0] + np.cos(angle) * v, x_hat[1] + np.sin(angle) * v])\n",
    "    outputs.append(H @ s)\n",
    "    inputs.append(s.reshape(1, -1))\n",
    "inputs = np.array(inputs).squeeze()\n",
    "\n",
    "plt.plot(inputs[:, 0], inputs[:, 1], 'bo')\n",
    "# plot x_hat\n",
    "plot_ellipse(x_hat, Q)"
   ]
  },
  {
   "cell_type": "markdown",
   "metadata": {},
   "source": [
    "These outputs should be similar."
   ]
  },
  {
   "cell_type": "code",
   "execution_count": 17,
   "metadata": {},
   "outputs": [
    {
     "name": "stdout",
     "output_type": "stream",
     "text": [
      "[array([[-1.09001442]]), array([[-1.09001442]]), array([[-1.09001442]]), array([[-1.09001442]]), array([[-1.09001442]]), array([[-1.09001442]]), array([[-1.09001442]]), array([[-1.09001442]]), array([[-1.09001442]])]\n"
     ]
    }
   ],
   "source": [
    "print(outputs)"
   ]
  },
  {
   "cell_type": "markdown",
   "metadata": {},
   "source": [
    "[Solution](./Recursive-Estimation-Solution.ipynb)"
   ]
  },
  {
   "cell_type": "markdown",
   "metadata": {},
   "source": []
  }
 ],
 "metadata": {
  "kernelspec": {
   "display_name": "Python 3",
   "language": "python",
   "name": "python3"
  },
  "language_info": {
   "codemirror_mode": {
    "name": "ipython",
    "version": 3
   },
   "file_extension": ".py",
   "mimetype": "text/x-python",
   "name": "python",
   "nbconvert_exporter": "python",
   "pygments_lexer": "ipython3",
   "version": "3.6.4"
  }
 },
 "nbformat": 4,
 "nbformat_minor": 2
}
