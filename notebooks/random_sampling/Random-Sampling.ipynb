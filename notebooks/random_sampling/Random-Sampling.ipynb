{
 "cells": [
  {
   "cell_type": "markdown",
   "metadata": {},
   "source": [
    "# Random Sampling\n",
    "\n",
    "In this notebook you'll work with the obstacle's polygon representation itself.\n",
    "\n",
    "Your tasks will be:\n",
    "\n",
    "1. Create polygons.\n",
    "2. Sample random 3D points.\n",
    "3. Remove points contained by an obstacle polygon.\n",
    "\n",
    "Recall, a point $(x, y, z)$ collides with a polygon if the $(x, y)$ coordinates are contained by the polygon and the $z$ coordinate (height) is less than the height of the polygon."
   ]
  },
  {
   "cell_type": "code",
   "execution_count": 1,
   "metadata": {},
   "outputs": [],
   "source": [
    "import time\n",
    "import numpy as np\n",
    "import matplotlib.pyplot as plt\n",
    "from mpl_toolkits.mplot3d import Axes3D\n",
    "from shapely.geometry import Polygon, Point\n",
    "%matplotlib inline \n",
    "\n"
   ]
  },
  {
   "cell_type": "code",
   "execution_count": 2,
   "metadata": {},
   "outputs": [],
   "source": [
    "plt.rcParams['figure.figsize'] = 12, 12"
   ]
  },
  {
   "cell_type": "code",
   "execution_count": 3,
   "metadata": {},
   "outputs": [
    {
     "name": "stdout",
     "output_type": "stream",
     "text": [
      "[[-310.2389   -439.2315     85.5         5.          5.         85.5     ]\n",
      " [-300.2389   -439.2315     85.5         5.          5.         85.5     ]\n",
      " [-290.2389   -439.2315     85.5         5.          5.         85.5     ]\n",
      " ...\n",
      " [ 257.8061    425.1645      1.75852     1.292725    1.292725    1.944791]\n",
      " [ 293.9967    368.3391      3.557666    1.129456    1.129456    3.667319]\n",
      " [ 281.5162    354.4156      4.999351    1.053772    1.053772    4.950246]]\n"
     ]
    }
   ],
   "source": [
    "# This is the same obstacle data from the previous lesson.\n",
    "filename = 'colliders.csv'\n",
    "data = np.loadtxt(filename, delimiter=',', dtype='Float64', skiprows=2)\n",
    "print(data)"
   ]
  },
  {
   "cell_type": "markdown",
   "metadata": {},
   "source": [
    "## Create Polygons"
   ]
  },
  {
   "cell_type": "code",
   "execution_count": 4,
   "metadata": {},
   "outputs": [],
   "source": [
    "def extract_polygons(data):\n",
    "\n",
    "    polygons = []\n",
    "    for i in range(data.shape[0]):\n",
    "        north, east, alt, d_north, d_east, d_alt = data[i, :]\n",
    "        \n",
    "        # TODO: Extract the 4 corners of the obstacle\n",
    "        # \n",
    "        # NOTE: The order of the points matters since\n",
    "        # `shapely` draws the sequentially from point to point.\n",
    "        #\n",
    "        # If the area of the polygon is 0 you've likely got a weird\n",
    "        # order.\n",
    "        north_low = north - d_north\n",
    "        north_high = north + d_north\n",
    "        east_high = east + d_east\n",
    "        east_low = east - d_east\n",
    "        corners = [(north_low, east_low),\n",
    "                   (north_high, east_low),\n",
    "                   (north_high, east_high),\n",
    "                   (north_low, east_high)]\n",
    "        \n",
    "        # TODO: Compute the height of the polygon\n",
    "        height = alt + d_alt\n",
    "\n",
    "        # TODO: Once you've defined corners, define polygons\n",
    "        p = Polygon(corners)\n",
    "        polygons.append((p, height))\n",
    "\n",
    "    return polygons\n"
   ]
  },
  {
   "cell_type": "code",
   "execution_count": 5,
   "metadata": {},
   "outputs": [],
   "source": [
    "polygons = extract_polygons(data)"
   ]
  },
  {
   "cell_type": "markdown",
   "metadata": {},
   "source": [
    "# Sampling 3D Points\n",
    "\n",
    "Now that we have the extracted the polygons, we need to sample random 3D points. Currently we don't know suitable ranges for x, y, and z. Let's figure out the max and min values for each dimension."
   ]
  },
  {
   "cell_type": "code",
   "execution_count": 6,
   "metadata": {},
   "outputs": [
    {
     "name": "stdout",
     "output_type": "stream",
     "text": [
      "X\n",
      "min = -315.2389, max = 604.7611\n",
      "\n",
      "Y\n",
      "min = -444.2315, max = 475.7685\n",
      "\n",
      "Z\n",
      "min = 0, max = 10\n"
     ]
    }
   ],
   "source": [
    "xmin = np.min(data[:, 0] - data[:, 3])\n",
    "xmax = np.max(data[:, 0] + data[:, 3])\n",
    "\n",
    "ymin = np.min(data[:, 1] - data[:, 4])\n",
    "ymax = np.max(data[:, 1] + data[:, 4])\n",
    "\n",
    "zmin = 0\n",
    "# Limit the z axis for the visualization\n",
    "zmax = 10\n",
    "\n",
    "print(\"X\")\n",
    "print(\"min = {0}, max = {1}\\n\".format(xmin, xmax))\n",
    "\n",
    "print(\"Y\")\n",
    "print(\"min = {0}, max = {1}\\n\".format(ymin, ymax))\n",
    "\n",
    "print(\"Z\")\n",
    "print(\"min = {0}, max = {1}\".format(zmin, zmax))"
   ]
  },
  {
   "cell_type": "markdown",
   "metadata": {},
   "source": [
    "Next, it's time to sample points. All that's left is picking the distribution and number of samples. The uniform distribution makes sense in this situation since we we'd like to encourage searching the whole space."
   ]
  },
  {
   "cell_type": "code",
   "execution_count": 7,
   "metadata": {},
   "outputs": [],
   "source": [
    "num_samples = 100\n",
    "\n",
    "xvals = np.random.uniform(xmin, xmax, num_samples)\n",
    "yvals = np.random.uniform(ymin, ymax, num_samples)\n",
    "zvals = np.random.uniform(zmin, zmax, num_samples)\n",
    "\n",
    "samples = list(zip(xvals, yvals, zvals))"
   ]
  },
  {
   "cell_type": "code",
   "execution_count": 8,
   "metadata": {},
   "outputs": [
    {
     "data": {
      "text/plain": [
       "[(535.6885620367052, 381.6598280458521, 7.497583314905892),\n",
       " (522.4906542763017, -437.0870792436251, 4.511934484603009),\n",
       " (475.0818696369109, -245.09790003297744, 5.891173551664065),\n",
       " (172.07593050782793, 358.1204299313812, 2.0628425397611547),\n",
       " (388.68318677350175, 297.10998909668683, 0.9859922975272961),\n",
       " (3.824705061508382, -235.00979701220652, 0.49098670645620346),\n",
       " (559.2751205675613, -278.52096502598266, 8.361666931501132),\n",
       " (-260.514136073733, -190.10308788264274, 1.2566228472556795),\n",
       " (29.666145174973565, 398.16799643367165, 2.10269509171918),\n",
       " (122.17818787948357, 193.177575365783, 1.1625168481185977)]"
      ]
     },
     "execution_count": 8,
     "metadata": {},
     "output_type": "execute_result"
    }
   ],
   "source": [
    "samples[:10]"
   ]
  },
  {
   "cell_type": "code",
   "execution_count": 9,
   "metadata": {},
   "outputs": [
    {
     "data": {
      "text/plain": [
       "100"
      ]
     },
     "execution_count": 9,
     "metadata": {},
     "output_type": "execute_result"
    }
   ],
   "source": [
    "len(samples)"
   ]
  },
  {
   "cell_type": "markdown",
   "metadata": {},
   "source": [
    "## Removing Points Colliding With Obstacles\n",
    "\n",
    "Prior to remove a point we must determine whether it collides with any obstacle. Complete the `collides` function below. It should return `True` if the point collides with *any* obstacle and `False` if no collision is detected."
   ]
  },
  {
   "cell_type": "code",
   "execution_count": 13,
   "metadata": {},
   "outputs": [
    {
     "data": {
      "image/svg+xml": [
       "<svg xmlns=\"http://www.w3.org/2000/svg\" xmlns:xlink=\"http://www.w3.org/1999/xlink\" width=\"100.0\" height=\"100.0\" viewBox=\"534.6885620367052 380.6598280458521 2.0 2.0\" preserveAspectRatio=\"xMinYMin meet\"><g transform=\"matrix(1,0,0,-1,0,763.3196560917042)\"><circle cx=\"535.6885620367052\" cy=\"381.6598280458521\" r=\"0.06\" stroke=\"#555555\" stroke-width=\"0.02\" fill=\"#66cc99\" opacity=\"0.6\" /></g></svg>"
      ],
      "text/plain": [
       "<shapely.geometry.point.Point at 0x7f9bc1354e80>"
      ]
     },
     "execution_count": 13,
     "metadata": {},
     "output_type": "execute_result"
    }
   ],
   "source": [
    "Point(*samples[0])\n",
    "# samples[0]"
   ]
  },
  {
   "cell_type": "code",
   "execution_count": 10,
   "metadata": {},
   "outputs": [
    {
     "name": "stdout",
     "output_type": "stream",
     "text": [
      "100.0\n"
     ]
    }
   ],
   "source": [
    "for polygon, h in polygons:\n",
    "    print(polygon.area)\n",
    "    break"
   ]
  },
  {
   "cell_type": "code",
   "execution_count": 24,
   "metadata": {},
   "outputs": [],
   "source": [
    "def collides(polygons, point):   \n",
    "    # TODO: Determine whether the point collides\n",
    "    # with any obstacles.    \n",
    "    for polygon, height in polygons:\n",
    "        if polygon.contains(Point(*point)):\n",
    "            if point[2] < height:\n",
    "                return True\n",
    "#             break\n",
    "            \n",
    "        \n",
    "    return False"
   ]
  },
  {
   "cell_type": "markdown",
   "metadata": {},
   "source": [
    "Use `collides` for all points in the sample."
   ]
  },
  {
   "cell_type": "code",
   "execution_count": 25,
   "metadata": {},
   "outputs": [
    {
     "name": "stdout",
     "output_type": "stream",
     "text": [
      "Time taken {0} seconds ... 5.93353533744812\n"
     ]
    }
   ],
   "source": [
    "t0 = time.time()\n",
    "to_keep = []\n",
    "for point in samples:\n",
    "    if not collides(polygons, point):\n",
    "        to_keep.append(point)\n",
    "time_taken = time.time() - t0\n",
    "print(\"Time taken {0} seconds ...\", time_taken)"
   ]
  },
  {
   "cell_type": "code",
   "execution_count": 26,
   "metadata": {},
   "outputs": [
    {
     "name": "stdout",
     "output_type": "stream",
     "text": [
      "63\n"
     ]
    }
   ],
   "source": [
    "print(len(to_keep))"
   ]
  },
  {
   "cell_type": "markdown",
   "metadata": {},
   "source": [
    "## Points Visualization"
   ]
  },
  {
   "cell_type": "code",
   "execution_count": 27,
   "metadata": {},
   "outputs": [],
   "source": [
    "from grid import create_grid\n",
    "grid = create_grid(data, zmax, 1)"
   ]
  },
  {
   "cell_type": "code",
   "execution_count": 28,
   "metadata": {},
   "outputs": [
    {
     "data": {
      "image/png": "[encoded data removed]",
      "text/plain": [
       "<matplotlib.figure.Figure at 0x7f9bf87967b8>"
      ]
     },
     "metadata": {
      "needs_background": "light"
     },
     "output_type": "display_data"
    }
   ],
   "source": [
    "fig = plt.figure()\n",
    "\n",
    "plt.imshow(grid, cmap='Greys', origin='lower')\n",
    "\n",
    "nmin = np.min(data[:, 0])\n",
    "emin = np.min(data[:, 1])\n",
    "\n",
    "# draw points\n",
    "all_pts = np.array(to_keep)\n",
    "north_vals = all_pts[:,0]\n",
    "east_vals = all_pts[:,1]\n",
    "plt.scatter(east_vals - emin, north_vals - nmin, c='red')\n",
    "\n",
    "plt.ylabel('NORTH')\n",
    "plt.xlabel('EAST')\n",
    "\n",
    "plt.show()"
   ]
  },
  {
   "cell_type": "markdown",
   "metadata": {},
   "source": [
    "[Solution](/notebooks/Random-Sampling-Solution.ipynb)"
   ]
  },
  {
   "cell_type": "markdown",
   "metadata": {},
   "source": [
    "## Epilogue\n",
    "\n",
    "You may have noticed removing points can be quite lengthy. In the implementation provided here we're naively checking to see if the point collides with each polygon when in reality it can only collide with one, the one that's closest to the point. The question then becomes \n",
    "\n",
    "\"How do we efficiently find the closest polygon to the point?\"\n",
    "\n",
    "One such approach is to use a *[k-d tree](https://en.wikipedia.org/wiki/K-d_tree)*, a space-partitioning data structure which allows search queries in $O(log(n))$. The *k-d tree* achieves this by cutting the search space in half on each step of a query.\n",
    "\n",
    "This would bring the total algorithm time down to $O(m * log(n))$ from $O(m*n)$.\n",
    "\n",
    "The scikit-learn library has an efficient implementation [readily available](http://scikit-learn.org/stable/modules/generated/sklearn.neighbors.KDTree.html#sklearn.neighbors.KDTree)."
   ]
  },
  {
   "cell_type": "code",
   "execution_count": null,
   "metadata": {},
   "outputs": [],
   "source": []
  },
  {
   "cell_type": "code",
   "execution_count": null,
   "metadata": {},
   "outputs": [],
   "source": []
  }
 ],
 "metadata": {
  "kernelspec": {
   "display_name": "Python 3",
   "language": "python",
   "name": "python3"
  },
  "language_info": {
   "codemirror_mode": {
    "name": "ipython",
    "version": 3
   },
   "file_extension": ".py",
   "mimetype": "text/x-python",
   "name": "python",
   "nbconvert_exporter": "python",
   "pygments_lexer": "ipython3",
   "version": "3.6.3"
  }
 },
 "nbformat": 4,
 "nbformat_minor": 2
}
