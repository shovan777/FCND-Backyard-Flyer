{
 "cells": [
  {
   "cell_type": "code",
   "execution_count": 14,
   "metadata": {},
   "outputs": [
    {
     "name": "stdout",
     "output_type": "stream",
     "text": [
      "Retrying connection in 1 second ...\n",
      "Retrying connection in 1 second ...\n",
      "Retrying connection in 1 second ...\n",
      "Retrying connection in 1 second ...\n",
      "Retrying connection in 1 second ...\n",
      "Retrying connection in 1 second ...\n",
      "Retrying connection in 1 second ...\n",
      "Retrying connection in 1 second ...\n"
     ]
    },
    {
     "ename": "KeyboardInterrupt",
     "evalue": "",
     "output_type": "error",
     "traceback": [
      "\u001b[0;31m---------------------------------------------------------------------------\u001b[0m",
      "\u001b[0;31mModuleNotFoundError\u001b[0m                       Traceback (most recent call last)",
      "\u001b[0;32m~/anaconda3/envs/fcnd/lib/python3.6/site-packages/udacidrone/connection/mavlink_connection.py\u001b[0m in \u001b[0;36m__init__\u001b[0;34m(self, device, threaded, PX4, send_rate, timeout)\u001b[0m\n\u001b[1;32m     56\u001b[0m                 \u001b[0;32mtry\u001b[0m\u001b[0;34m:\u001b[0m\u001b[0;34m\u001b[0m\u001b[0m\n\u001b[0;32m---> 57\u001b[0;31m                     \u001b[0mself\u001b[0m\u001b[0;34m.\u001b[0m\u001b[0m_master\u001b[0m \u001b[0;34m=\u001b[0m \u001b[0mmavutil\u001b[0m\u001b[0;34m.\u001b[0m\u001b[0mmavlink_connection\u001b[0m\u001b[0;34m(\u001b[0m\u001b[0mdevice\u001b[0m\u001b[0;34m)\u001b[0m\u001b[0;34m\u001b[0m\u001b[0m\n\u001b[0m\u001b[1;32m     58\u001b[0m                     \u001b[0;32mbreak\u001b[0m\u001b[0;34m\u001b[0m\u001b[0m\n",
      "\u001b[0;32m~/anaconda3/envs/fcnd/lib/python3.6/site-packages/pymavlink/mavutil.py\u001b[0m in \u001b[0;36mmavlink_connection\u001b[0;34m(device, baud, source_system, source_component, planner_format, write, append, robust_parsing, notimestamps, input, dialect, autoreconnect, zero_time_base, retries, use_native)\u001b[0m\n\u001b[1;32m   1250\u001b[0m                               source_system=source_system, source_component=source_component, use_native=use_native)\n\u001b[0;32m-> 1251\u001b[0;31m     \u001b[0;32mreturn\u001b[0m \u001b[0mmavserial\u001b[0m\u001b[0;34m(\u001b[0m\u001b[0mdevice\u001b[0m\u001b[0;34m,\u001b[0m \u001b[0mbaud\u001b[0m\u001b[0;34m=\u001b[0m\u001b[0mbaud\u001b[0m\u001b[0;34m,\u001b[0m \u001b[0msource_system\u001b[0m\u001b[0;34m=\u001b[0m\u001b[0msource_system\u001b[0m\u001b[0;34m,\u001b[0m \u001b[0msource_component\u001b[0m\u001b[0;34m=\u001b[0m\u001b[0msource_component\u001b[0m\u001b[0;34m,\u001b[0m \u001b[0mautoreconnect\u001b[0m\u001b[0;34m=\u001b[0m\u001b[0mautoreconnect\u001b[0m\u001b[0;34m,\u001b[0m \u001b[0muse_native\u001b[0m\u001b[0;34m=\u001b[0m\u001b[0muse_native\u001b[0m\u001b[0;34m)\u001b[0m\u001b[0;34m\u001b[0m\u001b[0m\n\u001b[0m\u001b[1;32m   1252\u001b[0m \u001b[0;34m\u001b[0m\u001b[0m\n",
      "\u001b[0;32m~/anaconda3/envs/fcnd/lib/python3.6/site-packages/pymavlink/mavutil.py\u001b[0m in \u001b[0;36m__init__\u001b[0;34m(self, device, baud, autoreconnect, source_system, source_component, use_native)\u001b[0m\n\u001b[1;32m    785\u001b[0m     \u001b[0;32mdef\u001b[0m \u001b[0m__init__\u001b[0m\u001b[0;34m(\u001b[0m\u001b[0mself\u001b[0m\u001b[0;34m,\u001b[0m \u001b[0mdevice\u001b[0m\u001b[0;34m,\u001b[0m \u001b[0mbaud\u001b[0m\u001b[0;34m=\u001b[0m\u001b[0;36m115200\u001b[0m\u001b[0;34m,\u001b[0m \u001b[0mautoreconnect\u001b[0m\u001b[0;34m=\u001b[0m\u001b[0;32mFalse\u001b[0m\u001b[0;34m,\u001b[0m \u001b[0msource_system\u001b[0m\u001b[0;34m=\u001b[0m\u001b[0;36m255\u001b[0m\u001b[0;34m,\u001b[0m \u001b[0msource_component\u001b[0m\u001b[0;34m=\u001b[0m\u001b[0;36m0\u001b[0m\u001b[0;34m,\u001b[0m \u001b[0muse_native\u001b[0m\u001b[0;34m=\u001b[0m\u001b[0mdefault_native\u001b[0m\u001b[0;34m)\u001b[0m\u001b[0;34m:\u001b[0m\u001b[0;34m\u001b[0m\u001b[0m\n\u001b[0;32m--> 786\u001b[0;31m         \u001b[0;32mimport\u001b[0m \u001b[0mserial\u001b[0m\u001b[0;34m\u001b[0m\u001b[0m\n\u001b[0m\u001b[1;32m    787\u001b[0m         \u001b[0;32mif\u001b[0m \u001b[0;34m','\u001b[0m \u001b[0;32min\u001b[0m \u001b[0mdevice\u001b[0m \u001b[0;32mand\u001b[0m \u001b[0;32mnot\u001b[0m \u001b[0mos\u001b[0m\u001b[0;34m.\u001b[0m\u001b[0mpath\u001b[0m\u001b[0;34m.\u001b[0m\u001b[0mexists\u001b[0m\u001b[0;34m(\u001b[0m\u001b[0mdevice\u001b[0m\u001b[0;34m)\u001b[0m\u001b[0;34m:\u001b[0m\u001b[0;34m\u001b[0m\u001b[0m\n",
      "\u001b[0;31mModuleNotFoundError\u001b[0m: No module named 'serial'",
      "\nDuring handling of the above exception, another exception occurred:\n",
      "\u001b[0;31mKeyboardInterrupt\u001b[0m                         Traceback (most recent call last)",
      "\u001b[0;32m<ipython-input-14-30f647659fe1>\u001b[0m in \u001b[0;36m<module>\u001b[0;34m\u001b[0m\n\u001b[1;32m      1\u001b[0m \u001b[0;32mfrom\u001b[0m \u001b[0mudacidrone\u001b[0m \u001b[0;32mimport\u001b[0m \u001b[0mDrone\u001b[0m\u001b[0;34m\u001b[0m\u001b[0m\n\u001b[1;32m      2\u001b[0m \u001b[0;32mfrom\u001b[0m \u001b[0mudacidrone\u001b[0m\u001b[0;34m.\u001b[0m\u001b[0mconnection\u001b[0m \u001b[0;32mimport\u001b[0m \u001b[0mMavlinkConnection\u001b[0m\u001b[0;34m\u001b[0m\u001b[0m\n\u001b[0;32m----> 3\u001b[0;31m \u001b[0mconn\u001b[0m \u001b[0;34m=\u001b[0m \u001b[0mMavlinkConnection\u001b[0m\u001b[0;34m(\u001b[0m\u001b[0;34m'/dev/ttyACM0,57600'\u001b[0m\u001b[0;34m,\u001b[0m \u001b[0mthreaded\u001b[0m\u001b[0;34m=\u001b[0m\u001b[0;32mTrue\u001b[0m\u001b[0;34m,\u001b[0m \u001b[0mPX4\u001b[0m\u001b[0;34m=\u001b[0m\u001b[0;32mTrue\u001b[0m\u001b[0;34m)\u001b[0m\u001b[0;34m\u001b[0m\u001b[0m\n\u001b[0m\u001b[1;32m      4\u001b[0m \u001b[0mdrone\u001b[0m \u001b[0;34m=\u001b[0m \u001b[0mDrone\u001b[0m\u001b[0;34m(\u001b[0m\u001b[0mconn\u001b[0m\u001b[0;34m)\u001b[0m\u001b[0;34m\u001b[0m\u001b[0m\n\u001b[1;32m      5\u001b[0m \u001b[0mdrone\u001b[0m\u001b[0;34m.\u001b[0m\u001b[0mstart\u001b[0m\u001b[0;34m(\u001b[0m\u001b[0;34m)\u001b[0m\u001b[0;34m\u001b[0m\u001b[0m\n",
      "\u001b[0;32m~/anaconda3/envs/fcnd/lib/python3.6/site-packages/udacidrone/connection/mavlink_connection.py\u001b[0m in \u001b[0;36m__init__\u001b[0;34m(self, device, threaded, PX4, send_rate, timeout)\u001b[0m\n\u001b[1;32m     59\u001b[0m                 \u001b[0;32mexcept\u001b[0m \u001b[0mException\u001b[0m \u001b[0;32mas\u001b[0m \u001b[0me\u001b[0m\u001b[0;34m:\u001b[0m\u001b[0;34m\u001b[0m\u001b[0m\n\u001b[1;32m     60\u001b[0m                     \u001b[0mprint\u001b[0m\u001b[0;34m(\u001b[0m\u001b[0;34m\"Retrying connection in 1 second ...\"\u001b[0m\u001b[0;34m)\u001b[0m\u001b[0;34m\u001b[0m\u001b[0m\n\u001b[0;32m---> 61\u001b[0;31m                     \u001b[0mtime\u001b[0m\u001b[0;34m.\u001b[0m\u001b[0msleep\u001b[0m\u001b[0;34m(\u001b[0m\u001b[0;36m1\u001b[0m\u001b[0;34m)\u001b[0m\u001b[0;34m\u001b[0m\u001b[0m\n\u001b[0m\u001b[1;32m     62\u001b[0m \u001b[0;34m\u001b[0m\u001b[0m\n\u001b[1;32m     63\u001b[0m         \u001b[0;31m# set up any of the threading, as needed\u001b[0m\u001b[0;34m\u001b[0m\u001b[0;34m\u001b[0m\u001b[0m\n",
      "\u001b[0;31mKeyboardInterrupt\u001b[0m: "
     ]
    }
   ],
   "source": [
    "from udacidrone import Drone\n",
    "from udacidrone.connection import MavlinkConnection\n",
    "conn = MavlinkConnection('/dev/ttyACM0,57600', threaded=True, PX4=True)\n",
    "drone = Drone(conn)\n",
    "drone.start()"
   ]
  },
  {
   "cell_type": "code",
   "execution_count": 3,
   "metadata": {},
   "outputs": [],
   "source": [
    "??MavlinkConnection\n"
   ]
  },
  {
   "cell_type": "code",
   "execution_count": 2,
   "metadata": {},
   "outputs": [],
   "source": [
    "drone.take_control()"
   ]
  },
  {
   "cell_type": "code",
   "execution_count": 3,
   "metadata": {},
   "outputs": [],
   "source": [
    "drone.release_control()"
   ]
  },
  {
   "cell_type": "code",
   "execution_count": 9,
   "metadata": {},
   "outputs": [],
   "source": [
    "a = []\n"
   ]
  },
  {
   "cell_type": "code",
   "execution_count": 18,
   "metadata": {},
   "outputs": [],
   "source": [
    "def papa():\n",
    "    return (1, 2, 3),(4,5,6)"
   ]
  },
  {
   "cell_type": "code",
   "execution_count": 21,
   "metadata": {},
   "outputs": [
    {
     "ename": "TypeError",
     "evalue": "append() takes exactly one argument (2 given)",
     "output_type": "error",
     "traceback": [
      "\u001b[0;31m---------------------------------------------------------------------------\u001b[0m",
      "\u001b[0;31mTypeError\u001b[0m                                 Traceback (most recent call last)",
      "\u001b[0;32m<ipython-input-21-43054d3a3a6f>\u001b[0m in \u001b[0;36m<module>\u001b[0;34m\u001b[0m\n\u001b[0;32m----> 1\u001b[0;31m \u001b[0ma\u001b[0m\u001b[0;34m.\u001b[0m\u001b[0mappend\u001b[0m\u001b[0;34m(\u001b[0m\u001b[0;34m*\u001b[0m\u001b[0mpapa\u001b[0m\u001b[0;34m(\u001b[0m\u001b[0;34m)\u001b[0m\u001b[0;34m)\u001b[0m\u001b[0;34m\u001b[0m\u001b[0m\n\u001b[0m",
      "\u001b[0;31mTypeError\u001b[0m: append() takes exactly one argument (2 given)"
     ]
    }
   ],
   "source": [
    "a.append(*papa())"
   ]
  },
  {
   "cell_type": "code",
   "execution_count": 20,
   "metadata": {},
   "outputs": [
    {
     "data": {
      "text/plain": [
       "['true', (1, 2, 3), (1, 2, 3), ((1, 2, 3), (4, 5, 6))]"
      ]
     },
     "execution_count": 20,
     "metadata": {},
     "output_type": "execute_result"
    }
   ],
   "source": [
    "a\n"
   ]
  },
  {
   "cell_type": "code",
   "execution_count": 15,
   "metadata": {},
   "outputs": [
    {
     "data": {
      "text/plain": [
       "(1, 2, 3)"
      ]
     },
     "execution_count": 15,
     "metadata": {},
     "output_type": "execute_result"
    }
   ],
   "source": [
    "papa()"
   ]
  },
  {
   "cell_type": "code",
   "execution_count": 22,
   "metadata": {},
   "outputs": [
    {
     "data": {
      "text/plain": [
       "['true', (1, 2, 3), (1, 2, 3), ((1, 2, 3), (4, 5, 6))]"
      ]
     },
     "execution_count": 22,
     "metadata": {},
     "output_type": "execute_result"
    }
   ],
   "source": [
    "a"
   ]
  },
  {
   "cell_type": "code",
   "execution_count": 23,
   "metadata": {},
   "outputs": [
    {
     "data": {
      "text/plain": [
       "((1, 2, 3), (4, 5, 6))"
      ]
     },
     "execution_count": 23,
     "metadata": {},
     "output_type": "execute_result"
    }
   ],
   "source": [
    "a.pop()"
   ]
  },
  {
   "cell_type": "code",
   "execution_count": 24,
   "metadata": {},
   "outputs": [
    {
     "data": {
      "text/plain": [
       "['true', (1, 2, 3), (1, 2, 3)]"
      ]
     },
     "execution_count": 24,
     "metadata": {},
     "output_type": "execute_result"
    }
   ],
   "source": [
    "a\n"
   ]
  },
  {
   "cell_type": "code",
   "execution_count": 28,
   "metadata": {},
   "outputs": [
    {
     "ename": "SyntaxError",
     "evalue": "invalid syntax (<ipython-input-28-c400c2733112>, line 1)",
     "output_type": "error",
     "traceback": [
      "\u001b[0;36m  File \u001b[0;32m\"<ipython-input-28-c400c2733112>\"\u001b[0;36m, line \u001b[0;32m1\u001b[0m\n\u001b[0;31m    if !(len(a)): print(a)\u001b[0m\n\u001b[0m       ^\u001b[0m\n\u001b[0;31mSyntaxError\u001b[0m\u001b[0;31m:\u001b[0m invalid syntax\n"
     ]
    }
   ],
   "source": [
    "if !(len(a)): print(a)"
   ]
  },
  {
   "cell_type": "code",
   "execution_count": 2,
   "metadata": {},
   "outputs": [
    {
     "ename": "ModuleNotFoundError",
     "evalue": "No module named 'dronekit'",
     "output_type": "error",
     "traceback": [
      "\u001b[0;31m---------------------------------------------------------------------------\u001b[0m",
      "\u001b[0;31mModuleNotFoundError\u001b[0m                       Traceback (most recent call last)",
      "\u001b[0;32m<ipython-input-2-8fd781499103>\u001b[0m in \u001b[0;36m<module>\u001b[0;34m\u001b[0m\n\u001b[0;32m----> 1\u001b[0;31m \u001b[0;32mfrom\u001b[0m \u001b[0mdronekit\u001b[0m \u001b[0;32mimport\u001b[0m \u001b[0mconnect\u001b[0m\u001b[0;34m,\u001b[0m \u001b[0mVehicle\u001b[0m\u001b[0;34m,\u001b[0m \u001b[0mHasObservers\u001b[0m\u001b[0;34m\u001b[0m\u001b[0m\n\u001b[0m",
      "\u001b[0;31mModuleNotFoundError\u001b[0m: No module named 'dronekit'"
     ]
    }
   ],
   "source": [
    "from dronekit import connect, Vehicle, HasObservers"
   ]
  },
  {
   "cell_type": "code",
   "execution_count": 8,
   "metadata": {},
   "outputs": [],
   "source": [
    "??connect"
   ]
  },
  {
   "cell_type": "code",
   "execution_count": 1,
   "metadata": {},
   "outputs": [],
   "source": [
    "from dronekit import connect, Vehicle, VehicleMode\n",
    "from enum import Enum\n",
    "import numpy as np\n",
    "from pymavlink import mavutil"
   ]
  },
  {
   "cell_type": "code",
   "execution_count": null,
   "metadata": {},
   "outputs": [],
   "source": []
  },
  {
   "cell_type": "code",
   "execution_count": 2,
   "metadata": {},
   "outputs": [],
   "source": [
    "class States(Enum):\n",
    "    MANUAL = 0\n",
    "    GUIDED = 1\n",
    "    ARMING = 2\n",
    "    TAKEOFF = 3\n",
    "    WAYPOINT = 4\n",
    "    LANDING = 5\n",
    "    DISARMING = 6"
   ]
  },
  {
   "cell_type": "code",
   "execution_count": 3,
   "metadata": {},
   "outputs": [],
   "source": [
    "class BackyardFlyer(Vehicle):\n",
    "    def __init__(self, *args):\n",
    "        super(BackyardFlyer, self).__init__(*args)\n",
    "        self.target_position = np.array([0.0, 0.0, 0.0])\n",
    "        self.all_waypoints = []\n",
    "        self.in_mission = True\n",
    "        self.check_state = {}\n",
    "\n",
    "        # initial state\n",
    "        self.mode = VehicleMode('STABILIZE')\n",
    "        self.flight_state = States.MANUAL\n",
    "        \n",
    "        # register callbacks\n",
    "        self.add_attribute_listener('location.local_frame', self.local_location_callback)\n",
    "        self.add_attribute_listener('velocity', self.velocity_callback)\n",
    "        self.add_attribute_listener('armed', self.state_callback)\n",
    "        self.add_attribute_listener('mode', self.state_callback)\n",
    "        \n",
    "    def goto_position_target_local_ned(self, north, east, down):\n",
    "        print('simple goto')\n",
    "        \"\"\"\t\n",
    "        Send SET_POSITION_TARGET_LOCAL_NED command to request the vehicle fly to a specified \n",
    "        location in the North, East, Down frame.\n",
    "\n",
    "        It is important to remember that in this frame, positive altitudes are entered as negative \n",
    "        \"Down\" values. So if down is \"10\", this will be 10 metres below the home altitude.\n",
    "\n",
    "        Starting from AC3.3 the method respects the frame setting. Prior to that the frame was\n",
    "        ignored. For more information see: \n",
    "        http://dev.ardupilot.com/wiki/copter-commands-in-guided-mode/#set_position_target_local_ned\n",
    "\n",
    "        See the above link for information on the type_mask (0=enable, 1=ignore). \n",
    "        At time of writing, acceleration and yaw bits are ignored.\n",
    "\n",
    "        \"\"\"\n",
    "        msg = self.message_factory.set_position_target_local_ned_encode(\n",
    "            0,       # time_boot_ms (not used)\n",
    "            0, 0,    # target system, target component\n",
    "            mavutil.mavlink.MAV_FRAME_LOCAL_NED, # frame\n",
    "            0b0000111111111000, # type_mask (only positions enabled)\n",
    "            north, east, down, # x, y, z positions (or North, East, Down in the MAV_FRAME_BODY_NED frame\n",
    "            0, 0, 0, # x, y, z velocity in m/s  (not used)\n",
    "            0, 0, 0, # x, y, z acceleration (not supported yet, ignored in GCS_Mavlink)\n",
    "            0, 0)    # yaw, yaw_rate (not supported yet, ignored in GCS_Mavlink) \n",
    "        # send command to vehicle\n",
    "        self.send_mavlink(msg)\n",
    "\n",
    "\n",
    "    def local_location_callback(_, self, attr_name, value):\n",
    "#         print('inside location callback')\n",
    "        if self.flight_state == States.TAKEOFF:\n",
    "            altitude = -1.0 * value.down\n",
    "            print(altitude, self.target_position[2])\n",
    "            if altitude > 0.95 * self.target_position[2]:\n",
    "                self.all_waypoints = [(0.0,0.0,10.0,0.0), (30.0,0.0,10.0,0), (30.0,30.0,10.0,0),(0.0,30.0,10.0,0.0)]\n",
    "                self.waypoint_transition()\n",
    "        if self.flight_state == States.WAYPOINT:\n",
    "            north = value.north\n",
    "            east = value.east\n",
    "            if abs(north - self.target_position[0]) < 1.0 and abs(east - self.target_position[1]) < 1.0:\n",
    "                print('I reached waypoint.')\n",
    "                if self.check_state[0] == True:\n",
    "                    self.landing_transition()\n",
    "                else:\n",
    "                    self.waypoint_transition()\n",
    "\n",
    "    def velocity_callback(_, self, attr_name, value):\n",
    "#         print('inside velocity callback')\n",
    "        if self.flight_state == States.LANDING:\n",
    "            if ((self.location.global_frame.lat - self.home_location.lat < 0.1) and\n",
    "               abs(self.location.local_frame.down) < 0.01):\n",
    "                self.disarming_transition()\n",
    "\n",
    "    def state_callback(_, self, attr_name, value):\n",
    "#         print('inside state callback')\n",
    "        if not self.in_mission:\n",
    "            return\n",
    "        if (self.flight_state == States.MANUAL) and self.is_armable:\n",
    "            self.arming_transition()\n",
    "        elif self.flight_state == States.ARMING:\n",
    "            if self.armed:\n",
    "                self.takeoff_transition()\n",
    "        elif self.flight_state == States.DISARMING:\n",
    "            if not self.armed:\n",
    "                self.manual_transition()\n",
    "\n",
    "    def calculate_box(self):\n",
    "        print('calculating box')\n",
    "        return self.all_waypoints.pop()\n",
    "\n",
    "    def arming_transition(self):\n",
    "        print('arming transition')\n",
    "        self.mode = VehicleMode('GUIDED')\n",
    "        self.armed = True\n",
    "\n",
    "        self.home_location = self.location.global_frame\n",
    "        self.flight_state = States.ARMING\n",
    "\n",
    "    def takeoff_transition(self):\n",
    "        print('takeoff transition')\n",
    "        print(self.location.local_frame)\n",
    "        target_altitude = 10.0\n",
    "        self.target_position[2] = target_altitude\n",
    "        self.simple_takeoff(target_altitude)\n",
    "        self.flight_state = States.TAKEOFF\n",
    "\n",
    "    def waypoint_transition(self):\n",
    "        print('waypoint transition')\n",
    "        if len(self.all_waypoints) != 0:\n",
    "            self.check_state[0] = False\n",
    "            box_cord = self.calculate_box()\n",
    "            self.target_position[:] = box_cord[:3]\n",
    "            print(self.target_position)\n",
    "            self.goto_position_target_local_ned(north=self.target_position[0], east=self.target_position[1], down=-1.0 * self.target_position[2])\n",
    "            self.flight_state = States.WAYPOINT\n",
    "        else:\n",
    "            print('mission complete')\n",
    "            self.check_state[0] = True\n",
    "            self.flight_state = States.WAYPOINT\n",
    "\n",
    "    def landing_transition(self):\n",
    "        self.mode = VehicleMode('LAND')\n",
    "        self.flight_state = States.LANDING\n",
    "\n",
    "    def disarming_transition(self):\n",
    "        print('disarm transition')\n",
    "        print(self.location.local_frame)\n",
    "        self.armed = False\n",
    "\n",
    "    def manual_transition(self):\n",
    "        print('manual transition')\n",
    "        self.mode = VehicleMode('STABILIZE')\n",
    "        self.close()\n",
    "\n",
    "    def start(self):\n",
    "        pass\n",
    "        \n",
    "\n",
    "        "
   ]
  },
  {
   "cell_type": "code",
   "execution_count": 14,
   "metadata": {},
   "outputs": [
    {
     "ename": "IndentationError",
     "evalue": "expected an indented block (<ipython-input-14-9db7efb126f8>, line 17)",
     "output_type": "error",
     "traceback": [
      "\u001b[0;36m  File \u001b[0;32m\"<ipython-input-14-9db7efb126f8>\"\u001b[0;36m, line \u001b[0;32m17\u001b[0m\n\u001b[0;31m    sitl.stop()\u001b[0m\n\u001b[0m       ^\u001b[0m\n\u001b[0;31mIndentationError\u001b[0m\u001b[0;31m:\u001b[0m expected an indented block\n"
     ]
    }
   ],
   "source": [
    "if __name__ == '__main__':\n",
    "    parser = argparse.ArgumentParser(description='Demonstrates how to create attributes from MAVLink messages. ')\n",
    "    parser.add_argument('--connect', \n",
    "                       help=\"Vehicle connection target string. If not specified, SITL automatically started and used.\")\n",
    "    args = parser.parse_args()\n",
    "\n",
    "    connection_string = args.connect\n",
    "    sitl = None\n",
    "    \n",
    "    if not connection_string:\n",
    "        import dronekit_sitl\n",
    "    sitl = dronekit_sitl.start_default()\n",
    "    connection_string = sitl.connection_string()\n",
    "    vehicle = connect(connection_string, wait_ready=True, vehicle_class=BackyardFlyer)\n",
    "    \n",
    "    if sitl is not None:\n",
    "    sitl.stop()\n"
   ]
  },
  {
   "cell_type": "code",
   "execution_count": 7,
   "metadata": {},
   "outputs": [],
   "source": [
    "??Vehicle.close"
   ]
  },
  {
   "cell_type": "code",
   "execution_count": 6,
   "metadata": {},
   "outputs": [],
   "source": [
    "import dronekit_sitl\n"
   ]
  },
  {
   "cell_type": "code",
   "execution_count": 7,
   "metadata": {},
   "outputs": [
    {
     "name": "stdout",
     "output_type": "stream",
     "text": [
      "Starting copter simulator (SITL)\n",
      "SITL already Downloaded and Extracted.\n",
      "Ready to boot.\n"
     ]
    },
    {
     "data": {
      "text/plain": [
       "'tcp:127.0.0.1:5760'"
      ]
     },
     "execution_count": 7,
     "metadata": {},
     "output_type": "execute_result"
    }
   ],
   "source": [
    "sitl = dronekit_sitl.start_default()\n",
    "sitl.connection_string()"
   ]
  },
  {
   "cell_type": "code",
   "execution_count": 8,
   "metadata": {
    "scrolled": true
   },
   "outputs": [
    {
     "name": "stderr",
     "output_type": "stream",
     "text": [
      ">>> Link timeout, no heartbeat in last 5 seconds\n"
     ]
    },
    {
     "ename": "KeyboardInterrupt",
     "evalue": "",
     "output_type": "error",
     "traceback": [
      "\u001b[0;31m---------------------------------------------------------------------------\u001b[0m",
      "\u001b[0;31mKeyboardInterrupt\u001b[0m                         Traceback (most recent call last)",
      "\u001b[0;32m<ipython-input-8-0b99a148df0f>\u001b[0m in \u001b[0;36m<module>\u001b[0;34m()\u001b[0m\n\u001b[1;32m      2\u001b[0m \u001b[0;31m# sitl = dronekit_sitl.start_default()\u001b[0m\u001b[0;34m\u001b[0m\u001b[0;34m\u001b[0m\u001b[0m\n\u001b[1;32m      3\u001b[0m \u001b[0;31m# connection_string = sitl.connection_string()\u001b[0m\u001b[0;34m\u001b[0m\u001b[0;34m\u001b[0m\u001b[0m\n\u001b[0;32m----> 4\u001b[0;31m \u001b[0mvehicle\u001b[0m \u001b[0;34m=\u001b[0m \u001b[0mconnect\u001b[0m\u001b[0;34m(\u001b[0m\u001b[0;34m'tcp:127.0.0.1:5762'\u001b[0m\u001b[0;34m,\u001b[0m \u001b[0mwait_ready\u001b[0m\u001b[0;34m=\u001b[0m\u001b[0;32mTrue\u001b[0m\u001b[0;34m,\u001b[0m \u001b[0mvehicle_class\u001b[0m\u001b[0;34m=\u001b[0m\u001b[0mBackyardFlyer\u001b[0m\u001b[0;34m)\u001b[0m\u001b[0;34m\u001b[0m\u001b[0m\n\u001b[0m",
      "\u001b[0;32m~/anaconda3/lib/python3.6/site-packages/dronekit/__init__.py\u001b[0m in \u001b[0;36mconnect\u001b[0;34m(ip, _initialize, wait_ready, status_printer, vehicle_class, rate, baud, heartbeat_timeout, source_system, use_native)\u001b[0m\n\u001b[1;32m   2843\u001b[0m \u001b[0;34m\u001b[0m\u001b[0m\n\u001b[1;32m   2844\u001b[0m     \u001b[0;32mif\u001b[0m \u001b[0m_initialize\u001b[0m\u001b[0;34m:\u001b[0m\u001b[0;34m\u001b[0m\u001b[0m\n\u001b[0;32m-> 2845\u001b[0;31m         \u001b[0mvehicle\u001b[0m\u001b[0;34m.\u001b[0m\u001b[0minitialize\u001b[0m\u001b[0;34m(\u001b[0m\u001b[0mrate\u001b[0m\u001b[0;34m=\u001b[0m\u001b[0mrate\u001b[0m\u001b[0;34m,\u001b[0m \u001b[0mheartbeat_timeout\u001b[0m\u001b[0;34m=\u001b[0m\u001b[0mheartbeat_timeout\u001b[0m\u001b[0;34m)\u001b[0m\u001b[0;34m\u001b[0m\u001b[0m\n\u001b[0m\u001b[1;32m   2846\u001b[0m \u001b[0;34m\u001b[0m\u001b[0m\n\u001b[1;32m   2847\u001b[0m     \u001b[0;32mif\u001b[0m \u001b[0mwait_ready\u001b[0m\u001b[0;34m:\u001b[0m\u001b[0;34m\u001b[0m\u001b[0m\n",
      "\u001b[0;32m~/anaconda3/lib/python3.6/site-packages/dronekit/__init__.py\u001b[0m in \u001b[0;36minitialize\u001b[0;34m(self, rate, heartbeat_timeout)\u001b[0m\n\u001b[1;32m   2111\u001b[0m         \u001b[0;31m# If heartbeat times out, this will interrupt.\u001b[0m\u001b[0;34m\u001b[0m\u001b[0;34m\u001b[0m\u001b[0m\n\u001b[1;32m   2112\u001b[0m         \u001b[0;32mwhile\u001b[0m \u001b[0mself\u001b[0m\u001b[0;34m.\u001b[0m\u001b[0m_handler\u001b[0m\u001b[0;34m.\u001b[0m\u001b[0m_alive\u001b[0m\u001b[0;34m:\u001b[0m\u001b[0;34m\u001b[0m\u001b[0m\n\u001b[0;32m-> 2113\u001b[0;31m             \u001b[0mtime\u001b[0m\u001b[0;34m.\u001b[0m\u001b[0msleep\u001b[0m\u001b[0;34m(\u001b[0m\u001b[0;36m.1\u001b[0m\u001b[0;34m)\u001b[0m\u001b[0;34m\u001b[0m\u001b[0m\n\u001b[0m\u001b[1;32m   2114\u001b[0m             \u001b[0;32mif\u001b[0m \u001b[0mself\u001b[0m\u001b[0;34m.\u001b[0m\u001b[0m_heartbeat_lastreceived\u001b[0m \u001b[0;34m!=\u001b[0m \u001b[0mstart\u001b[0m\u001b[0;34m:\u001b[0m\u001b[0;34m\u001b[0m\u001b[0m\n\u001b[1;32m   2115\u001b[0m                 \u001b[0;32mbreak\u001b[0m\u001b[0;34m\u001b[0m\u001b[0m\n",
      "\u001b[0;31mKeyboardInterrupt\u001b[0m: "
     ]
    }
   ],
   "source": [
    "import dronekit_sitl\n",
    "# sitl = dronekit_sitl.start_default()\n",
    "# connection_string = sitl.connection_string()\n",
    "vehicle = connect('tcp:127.0.0.1:5762', wait_ready=True, vehicle_class=BackyardFlyer)"
   ]
  },
  {
   "cell_type": "code",
   "execution_count": 48,
   "metadata": {},
   "outputs": [
    {
     "name": "stdout",
     "output_type": "stream",
     "text": [
      "inside velocity callback\n",
      "inside velocity callback\n",
      "inside velocity callback\n",
      "inside velocity callback\n",
      "inside velocity callback\n",
      "inside velocity callback\n",
      "inside velocity callback\n",
      "inside velocity callback\n",
      "inside velocity callback\n",
      "inside velocity callback\n",
      "inside velocity callback\n",
      "inside velocity callback\n",
      "inside velocity callback\n",
      "inside velocity callback\n",
      "inside velocity callback\n",
      "inside velocity callback\n",
      "inside velocity callback\n"
     ]
    }
   ],
   "source": [
    "vehicle.close()"
   ]
  },
  {
   "cell_type": "code",
   "execution_count": 10,
   "metadata": {},
   "outputs": [
    {
     "name": "stdout",
     "output_type": "stream",
     "text": [
      "Starting copter simulator (SITL)\n",
      "SITL already Downloaded and Extracted.\n",
      "Ready to boot.\n"
     ]
    },
    {
     "name": "stderr",
     "output_type": "stream",
     "text": [
      ">>> Link timeout, no heartbeat in last 5 seconds\n",
      "Exception in thread Thread-14:\n",
      "Traceback (most recent call last):\n",
      "  File \"/home/nic/anaconda3/lib/python3.6/site-packages/dronekit/mavlink.py\", line 211, in mavlink_thread_in\n",
      "    fn(self)\n",
      "  File \"/home/nic/anaconda3/lib/python3.6/site-packages/dronekit/__init__.py\", line 1346, in listener\n",
      "    self._heartbeat_error)\n",
      "dronekit.APIException: No heartbeat in 30 seconds, aborting.\n",
      "\n",
      "During handling of the above exception, another exception occurred:\n",
      "\n",
      "Traceback (most recent call last):\n",
      "  File \"/home/nic/anaconda3/lib/python3.6/threading.py\", line 916, in _bootstrap_inner\n",
      "    self.run()\n",
      "  File \"/home/nic/anaconda3/lib/python3.6/threading.py\", line 864, in run\n",
      "    self._target(*self._args, **self._kwargs)\n",
      "  File \"/home/nic/anaconda3/lib/python3.6/site-packages/dronekit/mavlink.py\", line 240, in mavlink_thread_in\n",
      "    errprinter('>>> ' + str(e.message))\n",
      "AttributeError: 'APIException' object has no attribute 'message'\n",
      "\n"
     ]
    },
    {
     "ename": "KeyboardInterrupt",
     "evalue": "",
     "output_type": "error",
     "traceback": [
      "\u001b[0;31m---------------------------------------------------------------------------\u001b[0m",
      "\u001b[0;31mKeyboardInterrupt\u001b[0m                         Traceback (most recent call last)",
      "\u001b[0;32m<ipython-input-10-a98537d65495>\u001b[0m in \u001b[0;36m<module>\u001b[0;34m()\u001b[0m\n\u001b[1;32m      1\u001b[0m \u001b[0msitl\u001b[0m \u001b[0;34m=\u001b[0m \u001b[0mdronekit_sitl\u001b[0m\u001b[0;34m.\u001b[0m\u001b[0mstart_default\u001b[0m\u001b[0;34m(\u001b[0m\u001b[0;34m)\u001b[0m\u001b[0;34m\u001b[0m\u001b[0m\n\u001b[1;32m      2\u001b[0m \u001b[0mconnection_string\u001b[0m \u001b[0;34m=\u001b[0m \u001b[0msitl\u001b[0m\u001b[0;34m.\u001b[0m\u001b[0mconnection_string\u001b[0m\u001b[0;34m(\u001b[0m\u001b[0;34m)\u001b[0m\u001b[0;34m\u001b[0m\u001b[0m\n\u001b[0;32m----> 3\u001b[0;31m \u001b[0mvehicle\u001b[0m \u001b[0;34m=\u001b[0m \u001b[0mconnect\u001b[0m\u001b[0;34m(\u001b[0m\u001b[0mconnection_string\u001b[0m\u001b[0;34m,\u001b[0m \u001b[0mwait_ready\u001b[0m\u001b[0;34m=\u001b[0m\u001b[0;32mTrue\u001b[0m\u001b[0;34m,\u001b[0m \u001b[0mvehicle_class\u001b[0m\u001b[0;34m=\u001b[0m\u001b[0mVehicle\u001b[0m\u001b[0;34m)\u001b[0m\u001b[0;34m\u001b[0m\u001b[0m\n\u001b[0m",
      "\u001b[0;32m~/anaconda3/lib/python3.6/site-packages/dronekit/__init__.py\u001b[0m in \u001b[0;36mconnect\u001b[0;34m(ip, _initialize, wait_ready, status_printer, vehicle_class, rate, baud, heartbeat_timeout, source_system, use_native)\u001b[0m\n\u001b[1;32m   2843\u001b[0m \u001b[0;34m\u001b[0m\u001b[0m\n\u001b[1;32m   2844\u001b[0m     \u001b[0;32mif\u001b[0m \u001b[0m_initialize\u001b[0m\u001b[0;34m:\u001b[0m\u001b[0;34m\u001b[0m\u001b[0m\n\u001b[0;32m-> 2845\u001b[0;31m         \u001b[0mvehicle\u001b[0m\u001b[0;34m.\u001b[0m\u001b[0minitialize\u001b[0m\u001b[0;34m(\u001b[0m\u001b[0mrate\u001b[0m\u001b[0;34m=\u001b[0m\u001b[0mrate\u001b[0m\u001b[0;34m,\u001b[0m \u001b[0mheartbeat_timeout\u001b[0m\u001b[0;34m=\u001b[0m\u001b[0mheartbeat_timeout\u001b[0m\u001b[0;34m)\u001b[0m\u001b[0;34m\u001b[0m\u001b[0m\n\u001b[0m\u001b[1;32m   2846\u001b[0m \u001b[0;34m\u001b[0m\u001b[0m\n\u001b[1;32m   2847\u001b[0m     \u001b[0;32mif\u001b[0m \u001b[0mwait_ready\u001b[0m\u001b[0;34m:\u001b[0m\u001b[0;34m\u001b[0m\u001b[0m\n",
      "\u001b[0;32m~/anaconda3/lib/python3.6/site-packages/dronekit/__init__.py\u001b[0m in \u001b[0;36minitialize\u001b[0;34m(self, rate, heartbeat_timeout)\u001b[0m\n\u001b[1;32m   2111\u001b[0m         \u001b[0;31m# If heartbeat times out, this will interrupt.\u001b[0m\u001b[0;34m\u001b[0m\u001b[0;34m\u001b[0m\u001b[0m\n\u001b[1;32m   2112\u001b[0m         \u001b[0;32mwhile\u001b[0m \u001b[0mself\u001b[0m\u001b[0;34m.\u001b[0m\u001b[0m_handler\u001b[0m\u001b[0;34m.\u001b[0m\u001b[0m_alive\u001b[0m\u001b[0;34m:\u001b[0m\u001b[0;34m\u001b[0m\u001b[0m\n\u001b[0;32m-> 2113\u001b[0;31m             \u001b[0mtime\u001b[0m\u001b[0;34m.\u001b[0m\u001b[0msleep\u001b[0m\u001b[0;34m(\u001b[0m\u001b[0;36m.1\u001b[0m\u001b[0;34m)\u001b[0m\u001b[0;34m\u001b[0m\u001b[0m\n\u001b[0m\u001b[1;32m   2114\u001b[0m             \u001b[0;32mif\u001b[0m \u001b[0mself\u001b[0m\u001b[0;34m.\u001b[0m\u001b[0m_heartbeat_lastreceived\u001b[0m \u001b[0;34m!=\u001b[0m \u001b[0mstart\u001b[0m\u001b[0;34m:\u001b[0m\u001b[0;34m\u001b[0m\u001b[0m\n\u001b[1;32m   2115\u001b[0m                 \u001b[0;32mbreak\u001b[0m\u001b[0;34m\u001b[0m\u001b[0m\n",
      "\u001b[0;31mKeyboardInterrupt\u001b[0m: "
     ]
    }
   ],
   "source": [
    "sitl = dronekit_sitl.start_default()\n",
    "connection_string = sitl.connection_string()\n",
    "vehicle = connect(connection_string, wait_ready=True, vehicle_class=Vehicle)\n",
    "vehicle.home_location."
   ]
  },
  {
   "cell_type": "code",
   "execution_count": 12,
   "metadata": {},
   "outputs": [],
   "source": [
    "?connect"
   ]
  },
  {
   "cell_type": "code",
   "execution_count": null,
   "metadata": {},
   "outputs": [],
   "source": [
    "vehicle.location.local_frame."
   ]
  },
  {
   "cell_type": "code",
   "execution_count": null,
   "metadata": {},
   "outputs": [],
   "source": [
    "# now lets do a new approach don't make a class\n",
    "# instead make vehicle class outside and callback also outside"
   ]
  }
 ],
 "metadata": {
  "kernelspec": {
   "display_name": "Python 3",
   "language": "python",
   "name": "python3"
  },
  "language_info": {
   "codemirror_mode": {
    "name": "ipython",
    "version": 3
   },
   "file_extension": ".py",
   "mimetype": "text/x-python",
   "name": "python",
   "nbconvert_exporter": "python",
   "pygments_lexer": "ipython3",
   "version": "3.6.4"
  }
 },
 "nbformat": 4,
 "nbformat_minor": 2
}
