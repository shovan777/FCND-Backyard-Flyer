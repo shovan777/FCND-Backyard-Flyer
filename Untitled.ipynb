{
 "cells": [
  {
   "cell_type": "code",
   "execution_count": 14,
   "metadata": {},
   "outputs": [
    {
     "name": "stdout",
     "output_type": "stream",
     "text": [
      "Retrying connection in 1 second ...\n",
      "Retrying connection in 1 second ...\n",
      "Retrying connection in 1 second ...\n",
      "Retrying connection in 1 second ...\n",
      "Retrying connection in 1 second ...\n",
      "Retrying connection in 1 second ...\n",
      "Retrying connection in 1 second ...\n",
      "Retrying connection in 1 second ...\n"
     ]
    },
    {
     "ename": "KeyboardInterrupt",
     "evalue": "",
     "output_type": "error",
     "traceback": [
      "\u001b[0;31m---------------------------------------------------------------------------\u001b[0m",
      "\u001b[0;31mModuleNotFoundError\u001b[0m                       Traceback (most recent call last)",
      "\u001b[0;32m~/anaconda3/envs/fcnd/lib/python3.6/site-packages/udacidrone/connection/mavlink_connection.py\u001b[0m in \u001b[0;36m__init__\u001b[0;34m(self, device, threaded, PX4, send_rate, timeout)\u001b[0m\n\u001b[1;32m     56\u001b[0m                 \u001b[0;32mtry\u001b[0m\u001b[0;34m:\u001b[0m\u001b[0;34m\u001b[0m\u001b[0m\n\u001b[0;32m---> 57\u001b[0;31m                     \u001b[0mself\u001b[0m\u001b[0;34m.\u001b[0m\u001b[0m_master\u001b[0m \u001b[0;34m=\u001b[0m \u001b[0mmavutil\u001b[0m\u001b[0;34m.\u001b[0m\u001b[0mmavlink_connection\u001b[0m\u001b[0;34m(\u001b[0m\u001b[0mdevice\u001b[0m\u001b[0;34m)\u001b[0m\u001b[0;34m\u001b[0m\u001b[0m\n\u001b[0m\u001b[1;32m     58\u001b[0m                     \u001b[0;32mbreak\u001b[0m\u001b[0;34m\u001b[0m\u001b[0m\n",
      "\u001b[0;32m~/anaconda3/envs/fcnd/lib/python3.6/site-packages/pymavlink/mavutil.py\u001b[0m in \u001b[0;36mmavlink_connection\u001b[0;34m(device, baud, source_system, source_component, planner_format, write, append, robust_parsing, notimestamps, input, dialect, autoreconnect, zero_time_base, retries, use_native)\u001b[0m\n\u001b[1;32m   1250\u001b[0m                               source_system=source_system, source_component=source_component, use_native=use_native)\n\u001b[0;32m-> 1251\u001b[0;31m     \u001b[0;32mreturn\u001b[0m \u001b[0mmavserial\u001b[0m\u001b[0;34m(\u001b[0m\u001b[0mdevice\u001b[0m\u001b[0;34m,\u001b[0m \u001b[0mbaud\u001b[0m\u001b[0;34m=\u001b[0m\u001b[0mbaud\u001b[0m\u001b[0;34m,\u001b[0m \u001b[0msource_system\u001b[0m\u001b[0;34m=\u001b[0m\u001b[0msource_system\u001b[0m\u001b[0;34m,\u001b[0m \u001b[0msource_component\u001b[0m\u001b[0;34m=\u001b[0m\u001b[0msource_component\u001b[0m\u001b[0;34m,\u001b[0m \u001b[0mautoreconnect\u001b[0m\u001b[0;34m=\u001b[0m\u001b[0mautoreconnect\u001b[0m\u001b[0;34m,\u001b[0m \u001b[0muse_native\u001b[0m\u001b[0;34m=\u001b[0m\u001b[0muse_native\u001b[0m\u001b[0;34m)\u001b[0m\u001b[0;34m\u001b[0m\u001b[0m\n\u001b[0m\u001b[1;32m   1252\u001b[0m \u001b[0;34m\u001b[0m\u001b[0m\n",
      "\u001b[0;32m~/anaconda3/envs/fcnd/lib/python3.6/site-packages/pymavlink/mavutil.py\u001b[0m in \u001b[0;36m__init__\u001b[0;34m(self, device, baud, autoreconnect, source_system, source_component, use_native)\u001b[0m\n\u001b[1;32m    785\u001b[0m     \u001b[0;32mdef\u001b[0m \u001b[0m__init__\u001b[0m\u001b[0;34m(\u001b[0m\u001b[0mself\u001b[0m\u001b[0;34m,\u001b[0m \u001b[0mdevice\u001b[0m\u001b[0;34m,\u001b[0m \u001b[0mbaud\u001b[0m\u001b[0;34m=\u001b[0m\u001b[0;36m115200\u001b[0m\u001b[0;34m,\u001b[0m \u001b[0mautoreconnect\u001b[0m\u001b[0;34m=\u001b[0m\u001b[0;32mFalse\u001b[0m\u001b[0;34m,\u001b[0m \u001b[0msource_system\u001b[0m\u001b[0;34m=\u001b[0m\u001b[0;36m255\u001b[0m\u001b[0;34m,\u001b[0m \u001b[0msource_component\u001b[0m\u001b[0;34m=\u001b[0m\u001b[0;36m0\u001b[0m\u001b[0;34m,\u001b[0m \u001b[0muse_native\u001b[0m\u001b[0;34m=\u001b[0m\u001b[0mdefault_native\u001b[0m\u001b[0;34m)\u001b[0m\u001b[0;34m:\u001b[0m\u001b[0;34m\u001b[0m\u001b[0m\n\u001b[0;32m--> 786\u001b[0;31m         \u001b[0;32mimport\u001b[0m \u001b[0mserial\u001b[0m\u001b[0;34m\u001b[0m\u001b[0m\n\u001b[0m\u001b[1;32m    787\u001b[0m         \u001b[0;32mif\u001b[0m \u001b[0;34m','\u001b[0m \u001b[0;32min\u001b[0m \u001b[0mdevice\u001b[0m \u001b[0;32mand\u001b[0m \u001b[0;32mnot\u001b[0m \u001b[0mos\u001b[0m\u001b[0;34m.\u001b[0m\u001b[0mpath\u001b[0m\u001b[0;34m.\u001b[0m\u001b[0mexists\u001b[0m\u001b[0;34m(\u001b[0m\u001b[0mdevice\u001b[0m\u001b[0;34m)\u001b[0m\u001b[0;34m:\u001b[0m\u001b[0;34m\u001b[0m\u001b[0m\n",
      "\u001b[0;31mModuleNotFoundError\u001b[0m: No module named 'serial'",
      "\nDuring handling of the above exception, another exception occurred:\n",
      "\u001b[0;31mKeyboardInterrupt\u001b[0m                         Traceback (most recent call last)",
      "\u001b[0;32m<ipython-input-14-30f647659fe1>\u001b[0m in \u001b[0;36m<module>\u001b[0;34m\u001b[0m\n\u001b[1;32m      1\u001b[0m \u001b[0;32mfrom\u001b[0m \u001b[0mudacidrone\u001b[0m \u001b[0;32mimport\u001b[0m \u001b[0mDrone\u001b[0m\u001b[0;34m\u001b[0m\u001b[0m\n\u001b[1;32m      2\u001b[0m \u001b[0;32mfrom\u001b[0m \u001b[0mudacidrone\u001b[0m\u001b[0;34m.\u001b[0m\u001b[0mconnection\u001b[0m \u001b[0;32mimport\u001b[0m \u001b[0mMavlinkConnection\u001b[0m\u001b[0;34m\u001b[0m\u001b[0m\n\u001b[0;32m----> 3\u001b[0;31m \u001b[0mconn\u001b[0m \u001b[0;34m=\u001b[0m \u001b[0mMavlinkConnection\u001b[0m\u001b[0;34m(\u001b[0m\u001b[0;34m'/dev/ttyACM0,57600'\u001b[0m\u001b[0;34m,\u001b[0m \u001b[0mthreaded\u001b[0m\u001b[0;34m=\u001b[0m\u001b[0;32mTrue\u001b[0m\u001b[0;34m,\u001b[0m \u001b[0mPX4\u001b[0m\u001b[0;34m=\u001b[0m\u001b[0;32mTrue\u001b[0m\u001b[0;34m)\u001b[0m\u001b[0;34m\u001b[0m\u001b[0m\n\u001b[0m\u001b[1;32m      4\u001b[0m \u001b[0mdrone\u001b[0m \u001b[0;34m=\u001b[0m \u001b[0mDrone\u001b[0m\u001b[0;34m(\u001b[0m\u001b[0mconn\u001b[0m\u001b[0;34m)\u001b[0m\u001b[0;34m\u001b[0m\u001b[0m\n\u001b[1;32m      5\u001b[0m \u001b[0mdrone\u001b[0m\u001b[0;34m.\u001b[0m\u001b[0mstart\u001b[0m\u001b[0;34m(\u001b[0m\u001b[0;34m)\u001b[0m\u001b[0;34m\u001b[0m\u001b[0m\n",
      "\u001b[0;32m~/anaconda3/envs/fcnd/lib/python3.6/site-packages/udacidrone/connection/mavlink_connection.py\u001b[0m in \u001b[0;36m__init__\u001b[0;34m(self, device, threaded, PX4, send_rate, timeout)\u001b[0m\n\u001b[1;32m     59\u001b[0m                 \u001b[0;32mexcept\u001b[0m \u001b[0mException\u001b[0m \u001b[0;32mas\u001b[0m \u001b[0me\u001b[0m\u001b[0;34m:\u001b[0m\u001b[0;34m\u001b[0m\u001b[0m\n\u001b[1;32m     60\u001b[0m                     \u001b[0mprint\u001b[0m\u001b[0;34m(\u001b[0m\u001b[0;34m\"Retrying connection in 1 second ...\"\u001b[0m\u001b[0;34m)\u001b[0m\u001b[0;34m\u001b[0m\u001b[0m\n\u001b[0;32m---> 61\u001b[0;31m                     \u001b[0mtime\u001b[0m\u001b[0;34m.\u001b[0m\u001b[0msleep\u001b[0m\u001b[0;34m(\u001b[0m\u001b[0;36m1\u001b[0m\u001b[0;34m)\u001b[0m\u001b[0;34m\u001b[0m\u001b[0m\n\u001b[0m\u001b[1;32m     62\u001b[0m \u001b[0;34m\u001b[0m\u001b[0m\n\u001b[1;32m     63\u001b[0m         \u001b[0;31m# set up any of the threading, as needed\u001b[0m\u001b[0;34m\u001b[0m\u001b[0;34m\u001b[0m\u001b[0m\n",
      "\u001b[0;31mKeyboardInterrupt\u001b[0m: "
     ]
    }
   ],
   "source": [
    "from udacidrone import Drone\n",
    "from udacidrone.connection import MavlinkConnection\n",
    "conn = MavlinkConnection('/dev/ttyACM0,57600', threaded=True, PX4=True)\n",
    "drone = Drone(conn)\n",
    "drone.start()"
   ]
  },
  {
   "cell_type": "code",
   "execution_count": 3,
   "metadata": {},
   "outputs": [],
   "source": [
    "??MavlinkConnection\n"
   ]
  },
  {
   "cell_type": "code",
   "execution_count": 2,
   "metadata": {},
   "outputs": [],
   "source": [
    "drone.take_control()"
   ]
  },
  {
   "cell_type": "code",
   "execution_count": 3,
   "metadata": {},
   "outputs": [],
   "source": [
    "drone.release_control()"
   ]
  },
  {
   "cell_type": "code",
   "execution_count": 9,
   "metadata": {},
   "outputs": [],
   "source": [
    "a = []\n"
   ]
  },
  {
   "cell_type": "code",
   "execution_count": 18,
   "metadata": {},
   "outputs": [],
   "source": [
    "def papa():\n",
    "    return (1, 2, 3),(4,5,6)"
   ]
  },
  {
   "cell_type": "code",
   "execution_count": 21,
   "metadata": {},
   "outputs": [
    {
     "ename": "TypeError",
     "evalue": "append() takes exactly one argument (2 given)",
     "output_type": "error",
     "traceback": [
      "\u001b[0;31m---------------------------------------------------------------------------\u001b[0m",
      "\u001b[0;31mTypeError\u001b[0m                                 Traceback (most recent call last)",
      "\u001b[0;32m<ipython-input-21-43054d3a3a6f>\u001b[0m in \u001b[0;36m<module>\u001b[0;34m\u001b[0m\n\u001b[0;32m----> 1\u001b[0;31m \u001b[0ma\u001b[0m\u001b[0;34m.\u001b[0m\u001b[0mappend\u001b[0m\u001b[0;34m(\u001b[0m\u001b[0;34m*\u001b[0m\u001b[0mpapa\u001b[0m\u001b[0;34m(\u001b[0m\u001b[0;34m)\u001b[0m\u001b[0;34m)\u001b[0m\u001b[0;34m\u001b[0m\u001b[0m\n\u001b[0m",
      "\u001b[0;31mTypeError\u001b[0m: append() takes exactly one argument (2 given)"
     ]
    }
   ],
   "source": [
    "a.append(*papa())"
   ]
  },
  {
   "cell_type": "code",
   "execution_count": 20,
   "metadata": {},
   "outputs": [
    {
     "data": {
      "text/plain": [
       "['true', (1, 2, 3), (1, 2, 3), ((1, 2, 3), (4, 5, 6))]"
      ]
     },
     "execution_count": 20,
     "metadata": {},
     "output_type": "execute_result"
    }
   ],
   "source": [
    "a\n"
   ]
  },
  {
   "cell_type": "code",
   "execution_count": 15,
   "metadata": {},
   "outputs": [
    {
     "data": {
      "text/plain": [
       "(1, 2, 3)"
      ]
     },
     "execution_count": 15,
     "metadata": {},
     "output_type": "execute_result"
    }
   ],
   "source": [
    "papa()"
   ]
  },
  {
   "cell_type": "code",
   "execution_count": 22,
   "metadata": {},
   "outputs": [
    {
     "data": {
      "text/plain": [
       "['true', (1, 2, 3), (1, 2, 3), ((1, 2, 3), (4, 5, 6))]"
      ]
     },
     "execution_count": 22,
     "metadata": {},
     "output_type": "execute_result"
    }
   ],
   "source": [
    "a"
   ]
  },
  {
   "cell_type": "code",
   "execution_count": 23,
   "metadata": {},
   "outputs": [
    {
     "data": {
      "text/plain": [
       "((1, 2, 3), (4, 5, 6))"
      ]
     },
     "execution_count": 23,
     "metadata": {},
     "output_type": "execute_result"
    }
   ],
   "source": [
    "a.pop()"
   ]
  },
  {
   "cell_type": "code",
   "execution_count": 24,
   "metadata": {},
   "outputs": [
    {
     "data": {
      "text/plain": [
       "['true', (1, 2, 3), (1, 2, 3)]"
      ]
     },
     "execution_count": 24,
     "metadata": {},
     "output_type": "execute_result"
    }
   ],
   "source": [
    "a\n"
   ]
  },
  {
   "cell_type": "code",
   "execution_count": 28,
   "metadata": {},
   "outputs": [
    {
     "ename": "SyntaxError",
     "evalue": "invalid syntax (<ipython-input-28-c400c2733112>, line 1)",
     "output_type": "error",
     "traceback": [
      "\u001b[0;36m  File \u001b[0;32m\"<ipython-input-28-c400c2733112>\"\u001b[0;36m, line \u001b[0;32m1\u001b[0m\n\u001b[0;31m    if !(len(a)): print(a)\u001b[0m\n\u001b[0m       ^\u001b[0m\n\u001b[0;31mSyntaxError\u001b[0m\u001b[0;31m:\u001b[0m invalid syntax\n"
     ]
    }
   ],
   "source": [
    "if !(len(a)): print(a)"
   ]
  },
  {
   "cell_type": "code",
   "execution_count": 2,
   "metadata": {},
   "outputs": [
    {
     "ename": "ModuleNotFoundError",
     "evalue": "No module named 'dronekit'",
     "output_type": "error",
     "traceback": [
      "\u001b[0;31m---------------------------------------------------------------------------\u001b[0m",
      "\u001b[0;31mModuleNotFoundError\u001b[0m                       Traceback (most recent call last)",
      "\u001b[0;32m<ipython-input-2-8fd781499103>\u001b[0m in \u001b[0;36m<module>\u001b[0;34m\u001b[0m\n\u001b[0;32m----> 1\u001b[0;31m \u001b[0;32mfrom\u001b[0m \u001b[0mdronekit\u001b[0m \u001b[0;32mimport\u001b[0m \u001b[0mconnect\u001b[0m\u001b[0;34m,\u001b[0m \u001b[0mVehicle\u001b[0m\u001b[0;34m,\u001b[0m \u001b[0mHasObservers\u001b[0m\u001b[0;34m\u001b[0m\u001b[0m\n\u001b[0m",
      "\u001b[0;31mModuleNotFoundError\u001b[0m: No module named 'dronekit'"
     ]
    }
   ],
   "source": [
    "from dronekit import connect, Vehicle, HasObservers"
   ]
  },
  {
   "cell_type": "code",
   "execution_count": 8,
   "metadata": {},
   "outputs": [],
   "source": [
    "??connect"
   ]
  },
  {
   "cell_type": "code",
   "execution_count": 1,
   "metadata": {},
   "outputs": [],
   "source": [
    "from dronekit import connect, Vehicle, VehicleMode\n",
    "from enum import Enum\n",
    "import numpy as np"
   ]
  },
  {
   "cell_type": "code",
   "execution_count": null,
   "metadata": {},
   "outputs": [],
   "source": []
  },
  {
   "cell_type": "code",
   "execution_count": 3,
   "metadata": {},
   "outputs": [],
   "source": [
    "class States(Enum):\n",
    "    MANUAL = 0\n",
    "    GUIDED = 1\n",
    "    ARMING = 2\n",
    "    TAKEOFF = 3\n",
    "    WAYPOINT = 4\n",
    "    LANDING = 5\n",
    "    DISARMING = 6"
   ]
  },
  {
   "cell_type": "code",
   "execution_count": 3,
   "metadata": {},
   "outputs": [
    {
     "ename": "AttributeError",
     "evalue": "MANUAL",
     "output_type": "error",
     "traceback": [
      "\u001b[0;31m---------------------------------------------------------------------------\u001b[0m",
      "\u001b[0;31mAttributeError\u001b[0m                            Traceback (most recent call last)",
      "\u001b[0;32m<ipython-input-3-55f2a240a652>\u001b[0m in \u001b[0;36m<module>\u001b[0;34m()\u001b[0m\n\u001b[0;32m----> 1\u001b[0;31m \u001b[0mStates\u001b[0m\u001b[0;34m.\u001b[0m\u001b[0mMANUAL\u001b[0m\u001b[0;34m.\u001b[0m\u001b[0mvalue\u001b[0m\u001b[0;34m\u001b[0m\u001b[0m\n\u001b[0m\u001b[1;32m      2\u001b[0m \u001b[0mVehicle\u001b[0m\u001b[0;34m.\u001b[0m\u001b[0mremo\u001b[0m\u001b[0;34m\u001b[0m\u001b[0m\n",
      "\u001b[0;32m~/anaconda3/lib/python3.6/enum.py\u001b[0m in \u001b[0;36m__getattr__\u001b[0;34m(cls, name)\u001b[0m\n\u001b[1;32m    322\u001b[0m             \u001b[0;32mreturn\u001b[0m \u001b[0mcls\u001b[0m\u001b[0;34m.\u001b[0m\u001b[0m_member_map_\u001b[0m\u001b[0;34m[\u001b[0m\u001b[0mname\u001b[0m\u001b[0;34m]\u001b[0m\u001b[0;34m\u001b[0m\u001b[0m\n\u001b[1;32m    323\u001b[0m         \u001b[0;32mexcept\u001b[0m \u001b[0mKeyError\u001b[0m\u001b[0;34m:\u001b[0m\u001b[0;34m\u001b[0m\u001b[0m\n\u001b[0;32m--> 324\u001b[0;31m             \u001b[0;32mraise\u001b[0m \u001b[0mAttributeError\u001b[0m\u001b[0;34m(\u001b[0m\u001b[0mname\u001b[0m\u001b[0;34m)\u001b[0m \u001b[0;32mfrom\u001b[0m \u001b[0;32mNone\u001b[0m\u001b[0;34m\u001b[0m\u001b[0m\n\u001b[0m\u001b[1;32m    325\u001b[0m \u001b[0;34m\u001b[0m\u001b[0m\n\u001b[1;32m    326\u001b[0m     \u001b[0;32mdef\u001b[0m \u001b[0m__getitem__\u001b[0m\u001b[0;34m(\u001b[0m\u001b[0mcls\u001b[0m\u001b[0;34m,\u001b[0m \u001b[0mname\u001b[0m\u001b[0;34m)\u001b[0m\u001b[0;34m:\u001b[0m\u001b[0;34m\u001b[0m\u001b[0m\n",
      "\u001b[0;31mAttributeError\u001b[0m: MANUAL"
     ]
    }
   ],
   "source": [
    "States.MANUAL.value\n",
    "Vehicle.remo"
   ]
  },
  {
   "cell_type": "code",
   "execution_count": 5,
   "metadata": {},
   "outputs": [],
   "source": [
    "class BackyardFlyer(Vehicle):\n",
    "    def __init__(self, *args):\n",
    "        super(BackyardFlyer, self).__init__(*args)\n",
    "        self.target_position = np.array([0.0, 0.0, 0.0])\n",
    "        self.all_waypoints = []\n",
    "        self.in_mission = True\n",
    "        self.check_state = {}\n",
    "\n",
    "        # initial state\n",
    "        self.mode = VehicleMode(States.MANUAL)\n",
    "        self.flight_state = states.MANUAL\n",
    "        \n",
    "        # register callbacks\n",
    "        self.add_attribute_listener('location.local_frame', self.local_location_callback)\n",
    "        self.add_attribute_listener('velocity', self.velocity_callback)\n",
    "        self.add_attribute_listener('armed', self.state_callback)\n",
    "        self.add_attribute_listener('mode', self.state_callback)\n",
    "        \n",
    "        def goto_position_target_local_ned(self, north, east, down):\n",
    "            \"\"\"\t\n",
    "            Send SET_POSITION_TARGET_LOCAL_NED command to request the vehicle fly to a specified \n",
    "            location in the North, East, Down frame.\n",
    "\n",
    "            It is important to remember that in this frame, positive altitudes are entered as negative \n",
    "            \"Down\" values. So if down is \"10\", this will be 10 metres below the home altitude.\n",
    "\n",
    "            Starting from AC3.3 the method respects the frame setting. Prior to that the frame was\n",
    "            ignored. For more information see: \n",
    "            http://dev.ardupilot.com/wiki/copter-commands-in-guided-mode/#set_position_target_local_ned\n",
    "\n",
    "            See the above link for information on the type_mask (0=enable, 1=ignore). \n",
    "            At time of writing, acceleration and yaw bits are ignored.\n",
    "\n",
    "            \"\"\"\n",
    "            msg = self.message_factory.set_position_target_local_ned_encode(\n",
    "                0,       # time_boot_ms (not used)\n",
    "                0, 0,    # target system, target component\n",
    "                mavutil.mavlink.MAV_FRAME_LOCAL_NED, # frame\n",
    "                0b0000111111111000, # type_mask (only positions enabled)\n",
    "                north, east, down, # x, y, z positions (or North, East, Down in the MAV_FRAME_BODY_NED frame\n",
    "                0, 0, 0, # x, y, z velocity in m/s  (not used)\n",
    "                0, 0, 0, # x, y, z acceleration (not supported yet, ignored in GCS_Mavlink)\n",
    "                0, 0)    # yaw, yaw_rate (not supported yet, ignored in GCS_Mavlink) \n",
    "            # send command to vehicle\n",
    "            self.send_mavlink(msg)\n",
    "\n",
    "        \n",
    "        def local_location_callback(self, attr_name, value):\n",
    "            if self.flight_state == States.TAKEOFF:\n",
    "                altitude = -1.0 * value[2]\n",
    "                if altitude > 0.95 * self.target_position[2]:\n",
    "                    self.all_waypoints = [(0.0,0.0,3.0,0.0), (5.0,0.0,3,0), (5.0,5.0,3.0,0),(0.0,5.0,3.0,0.0)]\n",
    "                    self.waypoint_transition()\n",
    "            if self.flight_state == States.WAYPOINT:\n",
    "                north = value[0]\n",
    "                east = value[1]\n",
    "                if abs(north - self.target_position[0] < 0.05) and abs(east - self.target_position[1] < 0.05):\n",
    "                    print('I reached waypoint.')\n",
    "                    if self.check_state[0] == True:\n",
    "                        self.landing_transition()\n",
    "                    else:\n",
    "                        self.waypoint_transition()\n",
    "        \n",
    "        def velocity_callback(self, attr_name, value):\n",
    "            if self.flight_state == States.LANDING:\n",
    "                if ((self.location.global_frame[2] - self.home_location[2] < 0.1) and\n",
    "                   abs(self.location.local_frame[2]) < 0.01):\n",
    "                    self.disarming_transition()\n",
    "            \n",
    "        def state_callback(self, attr_name, value):\n",
    "            if not self.in_mission:\n",
    "                return\n",
    "            if self.flight_state == States.MANUAL and self.is_armable:\n",
    "                self.arming_transition()\n",
    "            elif self.flight_state == States.ARMING:\n",
    "                if self.armed:\n",
    "                    self.takeoff_transition()\n",
    "            elif self.flight_state == States.DISARMING:\n",
    "                if not self.armed:\n",
    "                    self.manual_transition()\n",
    "                    \n",
    "        def calculate_box(self):\n",
    "            return self.all_waypoints.pop()\n",
    "        \n",
    "        def arming_transition(self):\n",
    "            self.mode = VehicleMode('GUIDED')\n",
    "            self.armed = True\n",
    "            \n",
    "            self.home_location = self.location.global_frame\n",
    "            self.flight_state = States.ARMING\n",
    "        \n",
    "        def takeoff_transition(self):\n",
    "            print('takeoff transition')\n",
    "            print(self.location.local_frame)\n",
    "            target_altitude = 3.0\n",
    "            self.target_position[2] = target_altitude\n",
    "            self.simple_takeoff(target_altitude)\n",
    "            self.flight_state = States.TAKEOFF\n",
    "            \n",
    "        def waypoint_transition(self):\n",
    "            print('waypoint transition')\n",
    "            if len(self.all_waypoints) != 0:\n",
    "                self.check_state[0] = False\n",
    "                box_cord = self.calculate_box()\n",
    "                self.target_position[:] = box_cord[:3]\n",
    "                print(self.target_position)\n",
    "                self.goto_position_target_local_ned(*box_cord)\n",
    "                self.flight_state = States.WAYPOINT\n",
    "            else:\n",
    "                print('mission complete')\n",
    "                self.check_state[0] = True\n",
    "                self.flight_state = States.WAYPOINT\n",
    "                \n",
    "        def landing_transition(self):\n",
    "            self.mode = VehicleMode('LAND')\n",
    "            self.flight_state = States.LANDING\n",
    "            \n",
    "        def disarming_transition(self):\n",
    "            print('disarm transition')\n",
    "            print(self.location.local_frame)\n",
    "            self.armed = False\n",
    "            \n",
    "        def manual_transition(self):\n",
    "            self.mode = VehicleMode('STABILIZED')\n",
    "            self.close()\n",
    "            \n",
    "        def start(self):\n",
    "            pass\n",
    "        \n",
    "\n",
    "        "
   ]
  },
  {
   "cell_type": "code",
   "execution_count": null,
   "metadata": {},
   "outputs": [],
   "source": [
    "if __name__ == '__main__':\n",
    "    parser = argparse.ArgumentParser(description='Demonstrates how to create attributes from MAVLink messages. ')\n",
    "    parser.add_argument('--connect', \n",
    "                       help=\"Vehicle connection target string. If not specified, SITL automatically started and used.\")\n",
    "    args = parser.parse_args()\n",
    "\n",
    "    connection_string = args.connect\n",
    "    sitl = None\n",
    "    \n",
    "    if not connection_string:\n",
    "        import dronekit_sitl\n",
    "    sitl = dronekit_sitl.start_default()\n",
    "    connection_string = sitl.connection_string()\n",
    "    vehicle = connect(connection_string, wait_ready=True, vehicle_class=BackyardFlyer)\n",
    "    \n",
    "    if sitl is not None:\n",
    "    sitl.stop()\n"
   ]
  },
  {
   "cell_type": "code",
   "execution_count": 7,
   "metadata": {},
   "outputs": [],
   "source": [
    "??Vehicle.close"
   ]
  },
  {
   "cell_type": "code",
   "execution_count": null,
   "metadata": {},
   "outputs": [],
   "source": []
  }
 ],
 "metadata": {
  "kernelspec": {
   "display_name": "Python 3",
   "language": "python",
   "name": "python3"
  },
  "language_info": {
   "codemirror_mode": {
    "name": "ipython",
    "version": 3
   },
   "file_extension": ".py",
   "mimetype": "text/x-python",
   "name": "python",
   "nbconvert_exporter": "python",
   "pygments_lexer": "ipython3",
   "version": "3.6.4"
  }
 },
 "nbformat": 4,
 "nbformat_minor": 2
}
